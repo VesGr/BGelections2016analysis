{
 "cells": [
  {
   "cell_type": "markdown",
   "metadata": {
    "collapsed": true
   },
   "source": [
    "# Analysis of the first round of the 2016 Bulgarian presidential elections\n",
    "\n",
    "## Part II - Pre-processing\n"
   ]
  },
  {
   "cell_type": "markdown",
   "metadata": {},
   "source": [
    "In Part I we scraped data about the number of ballots cast abroad for each of the top 6 candidates in the first round of Bulgaria's presidential elections. \n",
    "\n",
    "In Part II below we will examine the data for inconsistencies and incomplete entries, and calculate variables of interest. \n",
    "\n",
    "In Part III we will visually examine the data for any interesting patterns. \n",
    "\n",
    "### Step 1. Review the data"
   ]
  },
  {
   "cell_type": "code",
   "execution_count": 1,
   "metadata": {
    "collapsed": false
   },
   "outputs": [
    {
     "data": {
      "text/html": [
       "<table>\n",
       "<thead><tr><th></th><th scope=col>X</th><th scope=col>section.id</th><th scope=col>country</th><th scope=col>city</th><th scope=col>country_c</th><th scope=col>city_c</th><th scope=col>valid</th><th scope=col>protest</th><th scope=col>tt</th><th scope=col>rr</th><th scope=col>cc</th><th scope=col>kk</th><th scope=col>vm</th><th scope=col>po</th></tr></thead>\n",
       "<tbody>\n",
       "\t<tr><th scope=row>1</th><td>1                                                                                                                             </td><td>320100003                                                                                                                     </td><td>Australia                                                                                                                     </td><td>Brisbane                                                                                                                      </td><td>&lt;U+0410&gt;&lt;U+0432&gt;&lt;U+0441&gt;&lt;U+0442&gt;&lt;U+0440&gt;&lt;U+0430&gt;&lt;U+043B&gt;&lt;U+0438&gt;&lt;U+044F&gt;</td><td>&lt;U+0411&gt;&lt;U+0440&gt;&lt;U+0438&gt;&lt;U+0437&gt;&lt;U+0431&gt;&lt;U+0435&gt;                                          </td><td>45                                                                                                                            </td><td>2                                                                                                                             </td><td>14                                                                                                                            </td><td>13                                                                                                                            </td><td>4                                                                                                                             </td><td>7                                                                                                                             </td><td>4                                                                                                                             </td><td>0                                                                                                                             </td></tr>\n",
       "\t<tr><th scope=row>2</th><td>2                                                                                                                             </td><td>320100001                                                                                                                     </td><td>Australia                                                                                                                     </td><td>Canberra                                                                                                                      </td><td>&lt;U+0410&gt;&lt;U+0432&gt;&lt;U+0441&gt;&lt;U+0442&gt;&lt;U+0440&gt;&lt;U+0430&gt;&lt;U+043B&gt;&lt;U+0438&gt;&lt;U+044F&gt;</td><td>&lt;U+041A&gt;&lt;U+0430&gt;&lt;U+043D&gt;&lt;U+0431&gt;&lt;U+0435&gt;&lt;U+0440&gt;                                          </td><td>40                                                                                                                            </td><td>1                                                                                                                             </td><td>3                                                                                                                             </td><td>17                                                                                                                            </td><td>11                                                                                                                            </td><td>0                                                                                                                             </td><td>1                                                                                                                             </td><td>0                                                                                                                             </td></tr>\n",
       "\t<tr><th scope=row>3</th><td>3                                                                                                                             </td><td>320100004                                                                                                                     </td><td>Australia                                                                                                                     </td><td>Melbourne                                                                                                                     </td><td>&lt;U+0410&gt;&lt;U+0432&gt;&lt;U+0441&gt;&lt;U+0442&gt;&lt;U+0440&gt;&lt;U+0430&gt;&lt;U+043B&gt;&lt;U+0438&gt;&lt;U+044F&gt;</td><td>&lt;U+041C&gt;&lt;U+0435&gt;&lt;U+043B&gt;&lt;U+0431&gt;&lt;U+044A&gt;&lt;U+0440&gt;                                          </td><td>115                                                                                                                           </td><td>3                                                                                                                             </td><td>45                                                                                                                            </td><td>13                                                                                                                            </td><td>24                                                                                                                            </td><td>22                                                                                                                            </td><td>1                                                                                                                             </td><td>0                                                                                                                             </td></tr>\n",
       "\t<tr><th scope=row>4</th><td>4                                                                                                                             </td><td>320100005                                                                                                                     </td><td>Australia                                                                                                                     </td><td>Perth                                                                                                                         </td><td>&lt;U+0410&gt;&lt;U+0432&gt;&lt;U+0441&gt;&lt;U+0442&gt;&lt;U+0440&gt;&lt;U+0430&gt;&lt;U+043B&gt;&lt;U+0438&gt;&lt;U+044F&gt;</td><td>&lt;U+041F&gt;&lt;U+044A&gt;&lt;U+0440&gt;&lt;U+0442&gt;\t                                                                     </td><td>81                                                                                                                            </td><td>9                                                                                                                             </td><td>30                                                                                                                            </td><td>11                                                                                                                            </td><td>11                                                                                                                            </td><td>7                                                                                                                             </td><td>2                                                                                                                             </td><td>0                                                                                                                             </td></tr>\n",
       "\t<tr><th scope=row>5</th><td>5                                                                                                                             </td><td>320100002                                                                                                                     </td><td>Australia                                                                                                                     </td><td>Sidney                                                                                                                        </td><td>&lt;U+0410&gt;&lt;U+0432&gt;&lt;U+0441&gt;&lt;U+0442&gt;&lt;U+0440&gt;&lt;U+0430&gt;&lt;U+043B&gt;&lt;U+0438&gt;&lt;U+044F&gt;</td><td>&lt;U+0421&gt;&lt;U+0438&gt;&lt;U+0434&gt;&lt;U+043D&gt;&lt;U+0438&gt;\t                                                       </td><td>148                                                                                                                           </td><td>8                                                                                                                             </td><td>60                                                                                                                            </td><td>22                                                                                                                            </td><td>16                                                                                                                            </td><td>10                                                                                                                            </td><td>8                                                                                                                             </td><td>1                                                                                                                             </td></tr>\n",
       "\t<tr><th scope=row>6</th><td>6                                                                                                  </td><td>320200012                                                                                          </td><td>Austria                                                                                            </td><td>Bregenz                                                                                            </td><td>&lt;U+0410&gt;&lt;U+0432&gt;&lt;U+0441&gt;&lt;U+0442&gt;&lt;U+0440&gt;&lt;U+0438&gt;&lt;U+044F&gt; </td><td>&lt;U+0411&gt;&lt;U+0440&gt;&lt;U+0435&gt;&lt;U+0433&gt;&lt;U+0435&gt;&lt;U+043D&gt;&lt;U+0446&gt;\t</td><td>122                                                                                                </td><td>13                                                                                                 </td><td>23                                                                                                 </td><td>19                                                                                                 </td><td>24                                                                                                 </td><td>14                                                                                                 </td><td>19                                                                                                 </td><td>0                                                                                                  </td></tr>\n",
       "</tbody>\n",
       "</table>\n"
      ],
      "text/latex": [
       "\\begin{tabular}{r|llllllllllllll}\n",
       "  & X & section.id & country & city & country\\_c & city\\_c & valid & protest & tt & rr & cc & kk & vm & po\\\\\n",
       "\\hline\n",
       "\t1 & 1                                                                        & 320100003                                                                & Australia                                                                & Brisbane                                                                 & <U+0410><U+0432><U+0441><U+0442><U+0440><U+0430><U+043B><U+0438><U+044F> & <U+0411><U+0440><U+0438><U+0437><U+0431><U+0435>                         & 45                                                                       & 2                                                                        & 14                                                                       & 13                                                                       & 4                                                                        & 7                                                                        & 4                                                                        & 0                                                                       \\\\\n",
       "\t2 & 2                                                                        & 320100001                                                                & Australia                                                                & Canberra                                                                 & <U+0410><U+0432><U+0441><U+0442><U+0440><U+0430><U+043B><U+0438><U+044F> & <U+041A><U+0430><U+043D><U+0431><U+0435><U+0440>                         & 40                                                                       & 1                                                                        & 3                                                                        & 17                                                                       & 11                                                                       & 0                                                                        & 1                                                                        & 0                                                                       \\\\\n",
       "\t3 & 3                                                                        & 320100004                                                                & Australia                                                                & Melbourne                                                                & <U+0410><U+0432><U+0441><U+0442><U+0440><U+0430><U+043B><U+0438><U+044F> & <U+041C><U+0435><U+043B><U+0431><U+044A><U+0440>                         & 115                                                                      & 3                                                                        & 45                                                                       & 13                                                                       & 24                                                                       & 22                                                                       & 1                                                                        & 0                                                                       \\\\\n",
       "\t4 & 4                                                                        & 320100005                                                                & Australia                                                                & Perth                                                                    & <U+0410><U+0432><U+0441><U+0442><U+0440><U+0430><U+043B><U+0438><U+044F> & <U+041F><U+044A><U+0440><U+0442>\t                                        & 81                                                                       & 9                                                                        & 30                                                                       & 11                                                                       & 11                                                                       & 7                                                                        & 2                                                                        & 0                                                                       \\\\\n",
       "\t5 & 5                                                                        & 320100002                                                                & Australia                                                                & Sidney                                                                   & <U+0410><U+0432><U+0441><U+0442><U+0440><U+0430><U+043B><U+0438><U+044F> & <U+0421><U+0438><U+0434><U+043D><U+0438>\t                                & 148                                                                      & 8                                                                        & 60                                                                       & 22                                                                       & 16                                                                       & 10                                                                       & 8                                                                        & 1                                                                       \\\\\n",
       "\t6 & 6                                                         & 320200012                                                 & Austria                                                   & Bregenz                                                   & <U+0410><U+0432><U+0441><U+0442><U+0440><U+0438><U+044F>  & <U+0411><U+0440><U+0435><U+0433><U+0435><U+043D><U+0446>\t & 122                                                       & 13                                                        & 23                                                        & 19                                                        & 24                                                        & 14                                                        & 19                                                        & 0                                                        \\\\\n",
       "\\end{tabular}\n"
      ],
      "text/plain": [
       "  X section.id   country      city\n",
       "1 1  320100003 Australia  Brisbane\n",
       "2 2  320100001 Australia  Canberra\n",
       "3 3  320100004 Australia Melbourne\n",
       "4 4  320100005 Australia     Perth\n",
       "5 5  320100002 Australia    Sidney\n",
       "6 6  320200012   Austria   Bregenz\n",
       "                                                                 country_c\n",
       "1 <U+0410><U+0432><U+0441><U+0442><U+0440><U+0430><U+043B><U+0438><U+044F>\n",
       "2 <U+0410><U+0432><U+0441><U+0442><U+0440><U+0430><U+043B><U+0438><U+044F>\n",
       "3 <U+0410><U+0432><U+0441><U+0442><U+0440><U+0430><U+043B><U+0438><U+044F>\n",
       "4 <U+0410><U+0432><U+0441><U+0442><U+0440><U+0430><U+043B><U+0438><U+044F>\n",
       "5 <U+0410><U+0432><U+0441><U+0442><U+0440><U+0430><U+043B><U+0438><U+044F>\n",
       "6                 <U+0410><U+0432><U+0441><U+0442><U+0440><U+0438><U+044F>\n",
       "                                                     city_c valid protest tt rr\n",
       "1          <U+0411><U+0440><U+0438><U+0437><U+0431><U+0435>    45       2 14 13\n",
       "2          <U+041A><U+0430><U+043D><U+0431><U+0435><U+0440>    40       1  3 17\n",
       "3          <U+041C><U+0435><U+043B><U+0431><U+044A><U+0440>   115       3 45 13\n",
       "4                         <U+041F><U+044A><U+0440><U+0442>\\t    81       9 30 11\n",
       "5                 <U+0421><U+0438><U+0434><U+043D><U+0438>\\t   148       8 60 22\n",
       "6 <U+0411><U+0440><U+0435><U+0433><U+0435><U+043D><U+0446>\\t   122      13 23 19\n",
       "  cc kk vm po\n",
       "1  4  7  4  0\n",
       "2 11  0  1  0\n",
       "3 24 22  1  0\n",
       "4 11  7  2  0\n",
       "5 16 10  8  1\n",
       "6 24 14 19  0"
      ]
     },
     "metadata": {},
     "output_type": "display_data"
    }
   ],
   "source": [
    "# Load the data and examine its structure\n",
    "setwd(\"C:/Users/grozeve/Documents/_9_Misc/DataScience/My projects/bg_election\")\n",
    "ballots.df <- read.csv(\"ballots_english.csv\", stringsAsFactor=FALSE)\n",
    "head(ballots.df)"
   ]
  },
  {
   "cell_type": "code",
   "execution_count": 2,
   "metadata": {
    "collapsed": true
   },
   "outputs": [],
   "source": [
    "# Remove the country and city names in Cyrillic\n",
    "ballots.df <- ballots.df[,c(2,3,4,7:14)]"
   ]
  },
  {
   "cell_type": "code",
   "execution_count": 5,
   "metadata": {
    "collapsed": false
   },
   "outputs": [
    {
     "name": "stdout",
     "output_type": "stream",
     "text": [
      "'data.frame':\t325 obs. of  11 variables:\n",
      " $ section.id: int  320100003 320100001 320100004 320100005 320100002 320200012 320200006 320200007 320200013 320200302 ...\n",
      " $ country   : chr  \"Australia\" \"Australia\" \"Australia\" \"Australia\" ...\n",
      " $ city      : chr  \"Brisbane\" \"Canberra\" \"Melbourne\" \"Perth\" ...\n",
      " $ valid     : int  45 40 115 81 148 122 608 761 558 505 ...\n",
      " $ protest   : int  2 1 3 9 8 13 32 61 35 30 ...\n",
      " $ tt        : int  14 3 45 30 60 23 149 243 177 154 ...\n",
      " $ rr        : int  13 17 13 11 22 19 100 141 112 89 ...\n",
      " $ cc        : int  4 11 24 11 16 24 112 107 75 77 ...\n",
      " $ kk        : int  7 0 22 7 10 14 71 82 66 72 ...\n",
      " $ vm        : int  4 1 1 2 8 19 51 43 28 28 ...\n",
      " $ po        : int  0 0 0 0 1 0 20 11 4 7 ...\n"
     ]
    },
    {
     "data": {
      "text/plain": [
       "   section.id          country              city               valid       \n",
       " Min.   :320100001   Length:325         Length:325         Min.   :   0.0  \n",
       " 1st Qu.:321300063   Class :character   Class :character   1st Qu.: 124.0  \n",
       " Median :323000143   Mode  :character   Mode  :character   Median : 229.0  \n",
       " Mean   :323567548                                         Mean   : 339.5  \n",
       " 3rd Qu.:325800224                                         3rd Qu.: 481.0  \n",
       " Max.   :327200301                                         Max.   :2024.0  \n",
       "    protest            tt              rr               cc        \n",
       " Min.   : 0.00   Min.   :  0.0   Min.   :  0.00   Min.   :  0.00  \n",
       " 1st Qu.: 5.00   1st Qu.:  9.0   1st Qu.: 18.00   1st Qu.: 20.00  \n",
       " Median :14.00   Median : 27.0   Median : 40.00   Median : 43.00  \n",
       " Mean   :19.14   Mean   : 44.8   Mean   : 55.81   Mean   : 84.78  \n",
       " 3rd Qu.:30.00   3rd Qu.: 56.0   3rd Qu.: 82.00   3rd Qu.: 92.00  \n",
       " Max.   :96.00   Max.   :326.0   Max.   :279.00   Max.   :847.00  \n",
       "       kk               vm               po         \n",
       " Min.   :  0.00   Min.   :  0.00   Min.   :   0.00  \n",
       " 1st Qu.:  8.00   1st Qu.:  5.00   1st Qu.:   0.00  \n",
       " Median : 26.00   Median : 15.00   Median :   1.00  \n",
       " Mean   : 37.49   Mean   : 20.64   Mean   :  48.17  \n",
       " 3rd Qu.: 55.00   3rd Qu.: 30.00   3rd Qu.:   4.00  \n",
       " Max.   :189.00   Max.   :121.00   Max.   :1644.00  "
      ]
     },
     "metadata": {},
     "output_type": "display_data"
    }
   ],
   "source": [
    "# Examine each variable\n",
    "str(ballots.df)\n",
    "summary(ballots.df)"
   ]
  },
  {
   "cell_type": "markdown",
   "metadata": {},
   "source": [
    "Note that the minimum number of valid votes in the dataframe is 0. Therefore, we will identify which sections had 0 valid votes."
   ]
  },
  {
   "cell_type": "code",
   "execution_count": 7,
   "metadata": {
    "collapsed": false
   },
   "outputs": [
    {
     "data": {
      "text/html": [
       "<table>\n",
       "<thead><tr><th></th><th scope=col>section.id</th><th scope=col>country</th><th scope=col>city</th><th scope=col>valid</th><th scope=col>protest</th><th scope=col>tt</th><th scope=col>rr</th><th scope=col>cc</th><th scope=col>kk</th><th scope=col>vm</th><th scope=col>po</th></tr></thead>\n",
       "<tbody>\n",
       "\t<tr><th scope=row>110</th><td>322300105      </td><td>Spain          </td><td>Aranda de Duaro</td><td>0              </td><td>0              </td><td>5              </td><td>65             </td><td>40             </td><td>43             </td><td>16             </td><td>8              </td></tr>\n",
       "</tbody>\n",
       "</table>\n"
      ],
      "text/latex": [
       "\\begin{tabular}{r|lllllllllll}\n",
       "  & section.id & country & city & valid & protest & tt & rr & cc & kk & vm & po\\\\\n",
       "\\hline\n",
       "\t110 & 322300105       & Spain           & Aranda de Duaro & 0               & 0               & 5               & 65              & 40              & 43              & 16              & 8              \\\\\n",
       "\\end{tabular}\n"
      ],
      "text/plain": [
       "    section.id country            city valid protest tt rr cc kk vm po\n",
       "110  322300105   Spain Aranda de Duaro     0       0  5 65 40 43 16  8"
      ]
     },
     "metadata": {},
     "output_type": "display_data"
    }
   ],
   "source": [
    "ballots.df[which(ballots.df$valid==0), ] "
   ]
  },
  {
   "cell_type": "markdown",
   "metadata": {},
   "source": [
    "Since there is a positive number of ballots cast for the individual candidates, the data for section.id=322300105 is inconsistently input in the source. We will correct the number of valid votes manually. \n",
    "\n",
    "Note also that while this data point seemed like an outlier to be discarded, it was simply the result of an inconsistency error, which can be corrected. In addition, if we had captured data for all candidates on the ballot list, we could have checked for internal consistency by adding up all the protest and candidate votes and verifying that they match the number of valid votes."
   ]
  },
  {
   "cell_type": "code",
   "execution_count": 8,
   "metadata": {
    "collapsed": false
   },
   "outputs": [
    {
     "data": {
      "text/html": [
       "<table>\n",
       "<thead><tr><th></th><th scope=col>section.id</th><th scope=col>country</th><th scope=col>city</th><th scope=col>valid</th><th scope=col>protest</th><th scope=col>tt</th><th scope=col>rr</th><th scope=col>cc</th><th scope=col>kk</th><th scope=col>vm</th><th scope=col>po</th></tr></thead>\n",
       "<tbody>\n",
       "\t<tr><th scope=row>110</th><td>322300105      </td><td>Spain          </td><td>Aranda de Duaro</td><td>229            </td><td>0              </td><td>5              </td><td>65             </td><td>40             </td><td>43             </td><td>16             </td><td>8              </td></tr>\n",
       "</tbody>\n",
       "</table>\n"
      ],
      "text/latex": [
       "\\begin{tabular}{r|lllllllllll}\n",
       "  & section.id & country & city & valid & protest & tt & rr & cc & kk & vm & po\\\\\n",
       "\\hline\n",
       "\t110 & 322300105       & Spain           & Aranda de Duaro & 229             & 0               & 5               & 65              & 40              & 43              & 16              & 8              \\\\\n",
       "\\end{tabular}\n"
      ],
      "text/plain": [
       "    section.id country            city valid protest tt rr cc kk vm po\n",
       "110  322300105   Spain Aranda de Duaro   229       0  5 65 40 43 16  8"
      ]
     },
     "metadata": {},
     "output_type": "display_data"
    }
   ],
   "source": [
    "# Insert the correct number of valid ballots into the dataframe for section 322300105\n",
    "# We calculate the correct number of valid ballots using information from the section page\n",
    "ballots.df[which(ballots.df$valid==0), 4] <- 1000 - 765 - 1 -5 \n",
    "\n",
    "# Inspect the result\n",
    "ballots.df[which(ballots.df$section.id==322300105), ]"
   ]
  },
  {
   "cell_type": "markdown",
   "metadata": {},
   "source": [
    "Next, let's check for any NAs and run more inconsistency checks."
   ]
  },
  {
   "cell_type": "code",
   "execution_count": 9,
   "metadata": {
    "collapsed": false
   },
   "outputs": [
    {
     "data": {
      "text/html": [
       "<dl class=dl-horizontal>\n",
       "\t<dt>section.id</dt>\n",
       "\t\t<dd>FALSE</dd>\n",
       "\t<dt>country</dt>\n",
       "\t\t<dd>FALSE</dd>\n",
       "\t<dt>city</dt>\n",
       "\t\t<dd>FALSE</dd>\n",
       "\t<dt>valid</dt>\n",
       "\t\t<dd>FALSE</dd>\n",
       "\t<dt>protest</dt>\n",
       "\t\t<dd>FALSE</dd>\n",
       "\t<dt>tt</dt>\n",
       "\t\t<dd>FALSE</dd>\n",
       "\t<dt>rr</dt>\n",
       "\t\t<dd>FALSE</dd>\n",
       "\t<dt>cc</dt>\n",
       "\t\t<dd>FALSE</dd>\n",
       "\t<dt>kk</dt>\n",
       "\t\t<dd>FALSE</dd>\n",
       "\t<dt>vm</dt>\n",
       "\t\t<dd>FALSE</dd>\n",
       "\t<dt>po</dt>\n",
       "\t\t<dd>FALSE</dd>\n",
       "</dl>\n"
      ],
      "text/latex": [
       "\\begin{description*}\n",
       "\\item[section.id] FALSE\n",
       "\\item[country] FALSE\n",
       "\\item[city] FALSE\n",
       "\\item[valid] FALSE\n",
       "\\item[protest] FALSE\n",
       "\\item[tt] FALSE\n",
       "\\item[rr] FALSE\n",
       "\\item[cc] FALSE\n",
       "\\item[kk] FALSE\n",
       "\\item[vm] FALSE\n",
       "\\item[po] FALSE\n",
       "\\end{description*}\n"
      ],
      "text/markdown": [
       "section.id\n",
       ":   FALSEcountry\n",
       ":   FALSEcity\n",
       ":   FALSEvalid\n",
       ":   FALSEprotest\n",
       ":   FALSEtt\n",
       ":   FALSErr\n",
       ":   FALSEcc\n",
       ":   FALSEkk\n",
       ":   FALSEvm\n",
       ":   FALSEpo\n",
       ":   FALSE\n",
       "\n"
      ],
      "text/plain": [
       "section.id    country       city      valid    protest         tt         rr \n",
       "     FALSE      FALSE      FALSE      FALSE      FALSE      FALSE      FALSE \n",
       "        cc         kk         vm         po \n",
       "     FALSE      FALSE      FALSE      FALSE "
      ]
     },
     "metadata": {},
     "output_type": "display_data"
    }
   ],
   "source": [
    "apply(ballots.df, 2, function(x) any(is.na(x)))"
   ]
  },
  {
   "cell_type": "code",
   "execution_count": 12,
   "metadata": {
    "collapsed": false
   },
   "outputs": [
    {
     "data": {
      "text/html": [
       "<table>\n",
       "<thead><tr><th></th><th scope=col>section.id</th><th scope=col>country</th><th scope=col>city</th><th scope=col>valid</th><th scope=col>protest</th><th scope=col>tt</th><th scope=col>rr</th><th scope=col>cc</th><th scope=col>kk</th><th scope=col>vm</th><th scope=col>po</th></tr></thead>\n",
       "<tbody>\n",
       "</tbody>\n",
       "</table>\n"
      ],
      "text/latex": [
       "\\begin{tabular}{r|lllllllllll}\n",
       "  & section.id & country & city & valid & protest & tt & rr & cc & kk & vm & po\\\\\n",
       "\\hline\n",
       "\\end{tabular}\n"
      ],
      "text/plain": [
       " [1] section.id country    city       valid      protest    tt        \n",
       " [7] rr         cc         kk         vm         po        \n",
       "<0 rows> (or 0-length row.names)"
      ]
     },
     "metadata": {},
     "output_type": "display_data"
    },
    {
     "data": {
      "text/html": [
       "<table>\n",
       "<thead><tr><th></th><th scope=col>section.id</th><th scope=col>country</th><th scope=col>city</th><th scope=col>valid</th><th scope=col>protest</th><th scope=col>tt</th><th scope=col>rr</th><th scope=col>cc</th><th scope=col>kk</th><th scope=col>vm</th><th scope=col>po</th></tr></thead>\n",
       "<tbody>\n",
       "</tbody>\n",
       "</table>\n"
      ],
      "text/latex": [
       "\\begin{tabular}{r|lllllllllll}\n",
       "  & section.id & country & city & valid & protest & tt & rr & cc & kk & vm & po\\\\\n",
       "\\hline\n",
       "\\end{tabular}\n"
      ],
      "text/plain": [
       " [1] section.id country    city       valid      protest    tt        \n",
       " [7] rr         cc         kk         vm         po        \n",
       "<0 rows> (or 0-length row.names)"
      ]
     },
     "metadata": {},
     "output_type": "display_data"
    }
   ],
   "source": [
    "ballots.df[which(ballots.df$valid<ballots.df$protest), ]\n",
    "ballots.df[which(ballots.df$valid<rowSums(ballots.df[,c(6:11)])), ]"
   ]
  },
  {
   "cell_type": "markdown",
   "metadata": {},
   "source": [
    "### Step 2. Create variables\n",
    "\n",
    "We will create the following variables for each voting section:\n",
    "* Number of valid votes net of protest votes \n",
    "* Percent of votes for each candidate as a share of net votes\n",
    "* Share of the total votes that the top 6 candidates captured\n",
    "* Rank of each candidate by number of votes"
   ]
  },
  {
   "cell_type": "code",
   "execution_count": 13,
   "metadata": {
    "collapsed": true
   },
   "outputs": [],
   "source": [
    "# Calculate number of valid ballots net of protest votes\n",
    "ballots.df$valid.net <- ballots.df$valid - ballots.df$protest"
   ]
  },
  {
   "cell_type": "code",
   "execution_count": 14,
   "metadata": {
    "collapsed": true
   },
   "outputs": [],
   "source": [
    "# Calculate percentage values for each candidate \n",
    "ballots.df$tt.perc <- ballots.df$tt/ballots.df$valid.net\n",
    "ballots.df$rr.perc <- ballots.df$rr/ballots.df$valid.net\n",
    "ballots.df$cc.perc <- ballots.df$cc/ballots.df$valid.net\n",
    "ballots.df$kk.perc <- ballots.df$kk/ballots.df$valid.net\n",
    "ballots.df$vm.perc <- ballots.df$vm/ballots.df$valid.net\n",
    "ballots.df$po.perc <- ballots.df$po/ballots.df$valid.net"
   ]
  },
  {
   "cell_type": "code",
   "execution_count": 15,
   "metadata": {
    "collapsed": false
   },
   "outputs": [
    {
     "data": {
      "text/plain": [
       "   Min. 1st Qu.  Median    Mean 3rd Qu.    Max. \n",
       " 0.5789  0.7905  0.8239  0.8293  0.8660  0.9908 "
      ]
     },
     "metadata": {},
     "output_type": "display_data"
    }
   ],
   "source": [
    "# Calculate what share of the total votes these six candidates (Top 6) captured\n",
    "ballots.df$top6.ballots <- rowSums(ballots.df[ ,c(6:11)])\n",
    "ballots.df$top6.perc  <- ballots.df$top6.ballots/ballots.df$valid\n",
    "summary(ballots.df$top6.perc)"
   ]
  },
  {
   "cell_type": "markdown",
   "metadata": {},
   "source": [
    "These 6 candidates capture at least 58% of the total ballots in each section and 83% on average. We can further examine how many sections voted for candidates outside of the top 6 that accounted for up to 30% of the vote. "
   ]
  },
  {
   "cell_type": "code",
   "execution_count": 18,
   "metadata": {
    "collapsed": false
   },
   "outputs": [
    {
     "data": {
      "text/html": [
       "13"
      ],
      "text/latex": [
       "13"
      ],
      "text/markdown": [
       "13"
      ],
      "text/plain": [
       "[1] 13"
      ]
     },
     "metadata": {},
     "output_type": "display_data"
    }
   ],
   "source": [
    "# Number of sections where the top 6 candidates collected less than 70% of the vote\n",
    "nrow(ballots.df[which(ballots.df$top6.perc < .70), ])"
   ]
  },
  {
   "cell_type": "markdown",
   "metadata": {},
   "source": [
    "So, out of the 325 voting sections, in 312 of them the top 6 candidates garnered at least 70% of the vote.\n",
    "\n",
    "Next, we create rank variables."
   ]
  },
  {
   "cell_type": "code",
   "execution_count": 20,
   "metadata": {
    "collapsed": false
   },
   "outputs": [],
   "source": [
    "ranks <- t(apply(ballots.df[ ,c(6:11)], 1, function(x) rank(-x, ties.method=\"min\")))\n",
    "ballots.df <- cbind(ballots.df, ranks)\n",
    "colnames(ballots.df)[c(21:26)] <- c(\"tt.rank\", \"rr.rank\", \"cc.rank\", \"kk.rank\", \"vm.rank\", \"po.rank\")"
   ]
  },
  {
   "cell_type": "markdown",
   "metadata": {},
   "source": [
    "Review the data we added."
   ]
  },
  {
   "cell_type": "code",
   "execution_count": 24,
   "metadata": {
    "collapsed": false
   },
   "outputs": [
    {
     "data": {
      "text/html": [
       "<table>\n",
       "<thead><tr><th></th><th scope=col>section.id</th><th scope=col>country</th><th scope=col>city</th><th scope=col>valid.net</th><th scope=col>tt.perc</th><th scope=col>rr.perc</th><th scope=col>cc.perc</th><th scope=col>kk.perc</th><th scope=col>vm.perc</th><th scope=col>po.perc</th><th scope=col>top6.ballots</th><th scope=col>top6.perc</th><th scope=col>tt.rank</th><th scope=col>rr.rank</th><th scope=col>cc.rank</th><th scope=col>kk.rank</th><th scope=col>vm.rank</th><th scope=col>po.rank</th></tr></thead>\n",
       "<tbody>\n",
       "\t<tr><th scope=row>1</th><td>320100003         </td><td>Australia         </td><td>Brisbane          </td><td>43                </td><td>0.325581395348837 </td><td>0.302325581395349 </td><td>0.0930232558139535</td><td>0.162790697674419 </td><td>0.0930232558139535</td><td>0                 </td><td>42                </td><td>0.933333333333333 </td><td>1                 </td><td>2                 </td><td>4                 </td><td>3                 </td><td>4                 </td><td>6                 </td></tr>\n",
       "\t<tr><th scope=row>2</th><td>320100001         </td><td>Australia         </td><td>Canberra          </td><td>39                </td><td>0.0769230769230769</td><td>0.435897435897436 </td><td>0.282051282051282 </td><td>0                 </td><td>0.0256410256410256</td><td>0                 </td><td>32                </td><td>0.8               </td><td>3                 </td><td>1                 </td><td>2                 </td><td>5                 </td><td>4                 </td><td>5                 </td></tr>\n",
       "\t<tr><th scope=row>3</th><td>320100004          </td><td>Australia          </td><td>Melbourne          </td><td>112                </td><td>0.401785714285714  </td><td>0.116071428571429  </td><td>0.214285714285714  </td><td>0.196428571428571  </td><td>0.00892857142857143</td><td>0                  </td><td>105                </td><td>0.91304347826087   </td><td>1                  </td><td>4                  </td><td>2                  </td><td>3                  </td><td>5                  </td><td>6                  </td></tr>\n",
       "\t<tr><th scope=row>4</th><td>320100005         </td><td>Australia         </td><td>Perth             </td><td>72                </td><td>0.416666666666667 </td><td>0.152777777777778 </td><td>0.152777777777778 </td><td>0.0972222222222222</td><td>0.0277777777777778</td><td>0                 </td><td>61                </td><td>0.753086419753086 </td><td>1                 </td><td>2                 </td><td>2                 </td><td>4                 </td><td>5                 </td><td>6                 </td></tr>\n",
       "\t<tr><th scope=row>5</th><td>320100002          </td><td>Australia          </td><td>Sidney             </td><td>140                </td><td>0.428571428571429  </td><td>0.157142857142857  </td><td>0.114285714285714  </td><td>0.0714285714285714 </td><td>0.0571428571428571 </td><td>0.00714285714285714</td><td>117                </td><td>0.790540540540541  </td><td>1                  </td><td>2                  </td><td>3                  </td><td>4                  </td><td>5                  </td><td>6                  </td></tr>\n",
       "\t<tr><th scope=row>6</th><td>320200012        </td><td>Austria          </td><td>Bregenz          </td><td>109              </td><td>0.211009174311927</td><td>0.174311926605505</td><td>0.220183486238532</td><td>0.128440366972477</td><td>0.174311926605505</td><td>0                </td><td>99               </td><td>0.811475409836066</td><td>2                </td><td>3                </td><td>1                </td><td>5                </td><td>3                </td><td>6                </td></tr>\n",
       "</tbody>\n",
       "</table>\n"
      ],
      "text/latex": [
       "\\begin{tabular}{r|llllllllllllllllll}\n",
       "  & section.id & country & city & valid.net & tt.perc & rr.perc & cc.perc & kk.perc & vm.perc & po.perc & top6.ballots & top6.perc & tt.rank & rr.rank & cc.rank & kk.rank & vm.rank & po.rank\\\\\n",
       "\\hline\n",
       "\t1 & 320100003          & Australia          & Brisbane           & 43                 & 0.325581395348837  & 0.302325581395349  & 0.0930232558139535 & 0.162790697674419  & 0.0930232558139535 & 0                  & 42                 & 0.933333333333333  & 1                  & 2                  & 4                  & 3                  & 4                  & 6                 \\\\\n",
       "\t2 & 320100001          & Australia          & Canberra           & 39                 & 0.0769230769230769 & 0.435897435897436  & 0.282051282051282  & 0                  & 0.0256410256410256 & 0                  & 32                 & 0.8                & 3                  & 1                  & 2                  & 5                  & 4                  & 5                 \\\\\n",
       "\t3 & 320100004           & Australia           & Melbourne           & 112                 & 0.401785714285714   & 0.116071428571429   & 0.214285714285714   & 0.196428571428571   & 0.00892857142857143 & 0                   & 105                 & 0.91304347826087    & 1                   & 4                   & 2                   & 3                   & 5                   & 6                  \\\\\n",
       "\t4 & 320100005          & Australia          & Perth              & 72                 & 0.416666666666667  & 0.152777777777778  & 0.152777777777778  & 0.0972222222222222 & 0.0277777777777778 & 0                  & 61                 & 0.753086419753086  & 1                  & 2                  & 2                  & 4                  & 5                  & 6                 \\\\\n",
       "\t5 & 320100002           & Australia           & Sidney              & 140                 & 0.428571428571429   & 0.157142857142857   & 0.114285714285714   & 0.0714285714285714  & 0.0571428571428571  & 0.00714285714285714 & 117                 & 0.790540540540541   & 1                   & 2                   & 3                   & 4                   & 5                   & 6                  \\\\\n",
       "\t6 & 320200012         & Austria           & Bregenz           & 109               & 0.211009174311927 & 0.174311926605505 & 0.220183486238532 & 0.128440366972477 & 0.174311926605505 & 0                 & 99                & 0.811475409836066 & 2                 & 3                 & 1                 & 5                 & 3                 & 6                \\\\\n",
       "\\end{tabular}\n"
      ],
      "text/plain": [
       "  section.id   country      city valid.net    tt.perc   rr.perc    cc.perc\n",
       "1  320100003 Australia  Brisbane        43 0.32558140 0.3023256 0.09302326\n",
       "2  320100001 Australia  Canberra        39 0.07692308 0.4358974 0.28205128\n",
       "3  320100004 Australia Melbourne       112 0.40178571 0.1160714 0.21428571\n",
       "4  320100005 Australia     Perth        72 0.41666667 0.1527778 0.15277778\n",
       "5  320100002 Australia    Sidney       140 0.42857143 0.1571429 0.11428571\n",
       "6  320200012   Austria   Bregenz       109 0.21100917 0.1743119 0.22018349\n",
       "     kk.perc     vm.perc     po.perc top6.ballots top6.perc tt.rank rr.rank\n",
       "1 0.16279070 0.093023256 0.000000000           42 0.9333333       1       2\n",
       "2 0.00000000 0.025641026 0.000000000           32 0.8000000       3       1\n",
       "3 0.19642857 0.008928571 0.000000000          105 0.9130435       1       4\n",
       "4 0.09722222 0.027777778 0.000000000           61 0.7530864       1       2\n",
       "5 0.07142857 0.057142857 0.007142857          117 0.7905405       1       2\n",
       "6 0.12844037 0.174311927 0.000000000           99 0.8114754       2       3\n",
       "  cc.rank kk.rank vm.rank po.rank\n",
       "1       4       3       4       6\n",
       "2       2       5       4       5\n",
       "3       2       3       5       6\n",
       "4       2       4       5       6\n",
       "5       3       4       5       6\n",
       "6       1       5       3       6"
      ]
     },
     "metadata": {},
     "output_type": "display_data"
    }
   ],
   "source": [
    "head(ballots.df[ ,c(1:3, 12:26)]) "
   ]
  },
  {
   "cell_type": "markdown",
   "metadata": {},
   "source": [
    "Now that we have added the variables of interest, we will save the dataframe to a .csv file in order to load the data in Part III, when we will analyze the data."
   ]
  },
  {
   "cell_type": "code",
   "execution_count": 25,
   "metadata": {
    "collapsed": true
   },
   "outputs": [],
   "source": [
    "write.csv(ballots.df, \"ballots.csv\")"
   ]
  }
 ],
 "metadata": {
  "anaconda-cloud": {},
  "kernelspec": {
   "display_name": "R",
   "language": "R",
   "name": "ir"
  },
  "language_info": {
   "codemirror_mode": "r",
   "file_extension": ".r",
   "mimetype": "text/x-r-source",
   "name": "R",
   "pygments_lexer": "r",
   "version": "3.3.1"
  }
 },
 "nbformat": 4,
 "nbformat_minor": 1
}
