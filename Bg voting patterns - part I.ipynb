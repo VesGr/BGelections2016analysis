{
 "cells": [
  {
   "cell_type": "markdown",
   "metadata": {},
   "source": [
    "# Analysis of the first round of the 2016 Bulgarian presidential elections\n",
    "\n",
    "# Part I - Web scraping the data\n",
    "\n",
    "## Objective\n",
    "\n",
    "Bulgaria held its presential elections on Nov 6, 2016. Given the large number of Bulgarian emigrants who left the country after the fall of communism in the early 90s, I was interested in examining the voting patterns of Bulgarians living abroad. For this purpose, I scraped information from the website of the Bulgarian Election Committee, pre-processed the data for analysis, and then created several plots and tables, which illustrate some interesting patterns. [ELABORATE FINDINGS HERE] \n",
    "\n",
    "## Some background\n",
    "\n",
    "While Bulgaria is a multi-party parliamentary democracy and the president is independent of the three branches of government, the president plays a fairly significant role in international affairs by acting as commander-in-chief of the army and signing international treaties. There were 21 presidential candidates in the latest election. A majority vote (over 50%) is required to elect a president after the first round. If no single candidate reaches this threshold, a second round is held between the two candidates collecting the highest and second highest number of votes from the first round. As it happened, neither of the 21 candidates won more than 50% of the vote and a second round was held. This analysis focuses on the first round due to the broader representation of political parties and independent candidates. \n",
    "\n",
    "Among the 21 presidential candidates, only 6 gathered more than 4% of the vote. To focus this analysis, I only collected data on the number of votes for these six candidates:\n",
    "\n",
    "* Traicho Traikov (TT) - a pro-Western, anti-corruption technocrat \n",
    "* Rumen Radev (RR) - a pro-Russian airforce general\n",
    "* Cecka Caceva (CC) - the status quo candidate, balancing between the West and Russia\n",
    "* Krassimir Karakachanov (KK) - a pro-Russian far-right nationalist\n",
    "* Vesselin Mareshki (VM) - a local oligarch and independent candidate\n",
    "* Plamen Oresharski (PO) - representing the Turkish minority party and widely perceived as just another candidate of the oligarchy\n",
    "\n",
    "During these elections, people were also allowed to check a box indicating that they do not support any of the candidates - a so called, protest vote. Therefore, I also collected information on the number of protest votes abroad. "
   ]
  },
  {
   "cell_type": "markdown",
   "metadata": {},
   "source": [
    "Let's install the 'rvest' package first as we will use it to scrape the data."
   ]
  },
  {
   "cell_type": "code",
   "execution_count": 9,
   "metadata": {
    "collapsed": false,
    "scrolled": false
   },
   "outputs": [
    {
     "name": "stderr",
     "output_type": "stream",
     "text": [
      "also installing the dependencies 'xml2', 'selectr'\n",
      "\n"
     ]
    },
    {
     "name": "stdout",
     "output_type": "stream",
     "text": [
      "package 'xml2' successfully unpacked and MD5 sums checked\n",
      "package 'selectr' successfully unpacked and MD5 sums checked\n",
      "package 'rvest' successfully unpacked and MD5 sums checked\n",
      "\n",
      "The downloaded binary packages are in\n",
      "\tC:\\Users\\grozeve\\AppData\\Local\\Temp\\Rtmpo7xppj\\downloaded_packages\n"
     ]
    },
    {
     "name": "stderr",
     "output_type": "stream",
     "text": [
      "Loading required package: rvest\n",
      "Warning message:\n",
      ": package 'rvest' was built under R version 3.3.2Loading required package: xml2\n",
      "Warning message:\n",
      ": package 'xml2' was built under R version 3.3.2"
     ]
    }
   ],
   "source": [
    "install.packages(\"rvest\", repos=\"https://cran.r-project.org\")\n",
    "require(rvest)"
   ]
  },
  {
   "cell_type": "markdown",
   "metadata": {},
   "source": [
    "### Step 1. Scrape all links to the voting sections abroad\n",
    "\n",
    "The following page (https://results.cik.bg/pvrnr2016/tur1/protokoli_pr/32/index.html) contains links to the results of each voting section outside of Bulgaria. For example, the section results for Brisbane, Australia are stored in https://results.cik.bg/pvrnr2016/tur1/protokoli_pr/32/320100003.html. Note that \"320100003\" identifies the section link and is the unique id for each section. We can scrape each section link from the main page and store it in a vector, after which we can loop through each of these links and collect the data of interest."
   ]
  },
  {
   "cell_type": "code",
   "execution_count": 23,
   "metadata": {
    "collapsed": false
   },
   "outputs": [
    {
     "data": {
      "text/html": [
       "325"
      ],
      "text/latex": [
       "325"
      ],
      "text/markdown": [
       "325"
      ],
      "text/plain": [
       "[1] 325"
      ]
     },
     "metadata": {},
     "output_type": "display_data"
    }
   ],
   "source": [
    "setwd(\"C:/Users/grozeve/Documents/_9_Misc/DataScience/My projects/bg_election\")\n",
    "\n",
    "# Read in source\n",
    "cik_url_main <- read_html(\"https://results.cik.bg/pvrnr2016/tur1/protokoli_pr/32/index.html\") \n",
    "\n",
    "# Grab all links\n",
    "cik_url_main %>%\n",
    "  html_nodes(\"a\") %>% html_attr(name=\"href\") -> hrefs_1\n",
    "\n",
    "# Keep only the links to section pages - they start from ./320100003.html\n",
    "endpos <- length(hrefs_1)\n",
    "startpos <- which(hrefs_1==\"./320100003.html\")\n",
    "hrefs_2 <- hrefs_1[startpos:endpos]\n",
    "\n",
    "# Trim the links\n",
    "hrefs_3 <- gsub(\"./\", \"\", hrefs_2)\n",
    "\n",
    "# Create individual page urls\n",
    "cik_url_section <- paste0(\"https://results.cik.bg/pvrnr2016/tur1/protokoli_pr/32/\", hrefs_3)\n",
    "\n",
    "# Create an id for each section\n",
    "cik_section_id <- gsub(\".html\", \"\", hrefs_3)\n",
    "\n",
    "# Display number of links to individual voting sections outside Bulgaria\n",
    "length(hrefs_3)"
   ]
  },
  {
   "cell_type": "markdown",
   "metadata": {},
   "source": [
    "### Step 2. Define some useful functions for scraping the data of interest\n",
    "\n",
    "We will create functions to extract numerical values and characters from each section link.\n",
    "\n",
    "Note that while the results for each section are presented in several tables and we could have used readHTMLtable from the XML package, we do not need to extract all of this data. "
   ]
  },
  {
   "cell_type": "code",
   "execution_count": 24,
   "metadata": {
    "collapsed": true
   },
   "outputs": [],
   "source": [
    "# Extract numeric values (here, the number of ballots of interest) \n",
    "extract_num <- function(mynode, myurl){\n",
    "  myurl %>%\n",
    "    html_nodes(paste0(mynode)) %>% \n",
    "    html_text %>%\n",
    "    as.numeric\n",
    "}\n",
    "\n",
    "# Extract strings\n",
    "extract_char <- function(mynode, myurl){\n",
    "  myurl %>%\n",
    "    html_nodes(paste0(mynode)) %>% \n",
    "    html_text\n",
    "}"
   ]
  },
  {
   "cell_type": "markdown",
   "metadata": {},
   "source": [
    "Below we define the paths to each object of interest:\n",
    "* description of each section containing the location's country and city \n",
    "* number of valid ballots\n",
    "* number of protest ballots (not supporting either candidate)\n",
    "* number of ballots cast for each of the top 6 candidates\n",
    "\n",
    "The paths can be obtained by right-clicking on the object in Chrome and selecting Inspect and then from the Elements pane on the right, we click on the object again and select Copy -> Copy selector. "
   ]
  },
  {
   "cell_type": "code",
   "execution_count": 25,
   "metadata": {
    "collapsed": true
   },
   "outputs": [],
   "source": [
    "node_title <- c(\"#main > h3:nth-child(6)\")\n",
    "node_valid <- c(\"#main > table:nth-child(18) > tbody > tr:nth-child(3) > td:nth-child(2)\")\n",
    "node_protest <- c(\"#main > table:nth-child(18) > tbody > tr:nth-child(5) > td:nth-child(2)\")\n",
    "node_tt <- c(\"#main > table:nth-child(20) > tbody > tr:nth-child(6) > td:nth-child(3)\")\n",
    "node_rr <- c(\"#main > table:nth-child(20) > tbody > tr:nth-child(11) > td:nth-child(3)\")\n",
    "node_cc <- c(\"#main > table:nth-child(20) > tbody > tr:nth-child(15) > td:nth-child(3)\")\n",
    "node_kk <- c(\"#main > table:nth-child(20) > tbody > tr:nth-child(17) > td:nth-child(3)\")\n",
    "node_vm <- c(\"#main > table:nth-child(20) > tbody > tr:nth-child(1) > td:nth-child(3)\")\n",
    "node_po <- c(\"#main > table:nth-child(20) > tbody > tr:nth-child(3) > td:nth-child(3)\")"
   ]
  },
  {
   "cell_type": "markdown",
   "metadata": {},
   "source": [
    "Next, we will extract the country and city from the title description of each section - for this we need to scrape a sample url first. We will also have to encode it in UTF-8 since the characters are in Cyrillic.\n",
    "\n",
    "The next two functions below will extract the country and city strings."
   ]
  },
  {
   "cell_type": "code",
   "execution_count": 26,
   "metadata": {
    "collapsed": true
   },
   "outputs": [],
   "source": [
    "cik_url_sample <- read_html(\"https://results.cik.bg/pvrnr2016/tur1/protokoli_pr/32/320300014.html\")\n",
    "\n",
    "mytitle <- extract_char(node_title, cik_url_sample) \n",
    "Encoding(mytitle) <- \"UTF-8\"\n",
    "\n",
    "# Functions to get the country and city names\n",
    "extract_country <- function(myurl){\n",
    "  tmp.mytitle <- extract_char(node_title, myurl) \n",
    "  Encoding(tmp.mytitle) <- \"UTF-8\"\n",
    "  r1 <- regexpr(\"държава \", tmp.mytitle)\n",
    "  r2 <- regexpr(\"място\", tmp.mytitle)\n",
    "  r3 <- regexpr(\"гласуване \", tmp.mytitle)\n",
    "  tmp.country <- substr(tmp.mytitle, r1+8, r2-5)\n",
    "  return(tmp.country)\n",
    "}\n",
    "\n",
    "extract_city <- function(myurl){\n",
    "  tmp.mytitle <- extract_char(node_title, myurl) \n",
    "  Encoding(tmp.mytitle) <- \"UTF-8\"\n",
    "  r1 <- regexpr(\"държава \", tmp.mytitle)\n",
    "  r2 <- regexpr(\"място\", tmp.mytitle)\n",
    "  r3 <- regexpr(\"гласуване \", tmp.mytitle)\n",
    "  tmp.city <- substr(tmp.mytitle, r3+10, nchar(mytitle)-1)\n",
    "  return(tmp.city)\n",
    "}\n"
   ]
  },
  {
   "cell_type": "markdown",
   "metadata": {},
   "source": [
    "### Step 3 - Loop through each page url and collect the data points of interest"
   ]
  },
  {
   "cell_type": "markdown",
   "metadata": {},
   "source": [
    "We will create a loop to go through each section page, collect the data of interest and store it as the next element in a vector. Since R is not particularly loop-friendly, we will specify the length and type of the vectors we will be populating in order to speed up the procedure. "
   ]
  },
  {
   "cell_type": "code",
   "execution_count": 27,
   "metadata": {
    "collapsed": true
   },
   "outputs": [],
   "source": [
    "num_sections <- length(cik_url_section)\n",
    "section.id <- numeric(num_sections)\n",
    "country <-  c(rep(\"NA\", num_sections))\n",
    "city <-  c(rep(\"NA\", num_sections))\n",
    "valid <- numeric(num_sections)\n",
    "protest <- numeric(num_sections)\n",
    "tt <- numeric(num_sections)\n",
    "rr <- numeric(num_sections)\n",
    "cc <- numeric(num_sections)\n",
    "kk <- numeric(num_sections)\n",
    "vm <- numeric(num_sections)\n",
    "po <- numeric(num_sections)"
   ]
  },
  {
   "cell_type": "markdown",
   "metadata": {},
   "source": [
    "Loop through each section url."
   ]
  },
  {
   "cell_type": "code",
   "execution_count": 29,
   "metadata": {
    "collapsed": false
   },
   "outputs": [],
   "source": [
    "for (i in 1:num_sections){\n",
    "  tmp.html <- read_html(cik_url_section[i])\n",
    "  \n",
    "  section.id[i] <- cik_section_id[i]\n",
    "  country[i] <- extract_country(tmp.html)\n",
    "  city[i] <- extract_city(tmp.html)\n",
    "  valid[i] <- extract_num(node_valid, tmp.html)\n",
    "  protest[i] <- extract_num(node_protest, tmp.html)\n",
    "  tt[i] <- extract_num(node_tt, tmp.html)\n",
    "  rr[i] <- extract_num(node_rr, tmp.html)\n",
    "  cc[i] <- extract_num(node_cc, tmp.html)\n",
    "  kk[i] <- extract_num(node_kk, tmp.html)\n",
    "  vm[i] <- extract_num(node_vm, tmp.html)\n",
    "  po[i] <- extract_num(node_po, tmp.html)\n",
    "}\n",
    "\n",
    "# Create a dataframe with the results - each row represents \n",
    "# a unique section and each column represents a variable\n",
    "ballots.df <- data.frame(section.id, country, city, valid, protest, tt, rr, cc, kk, vm, po)\n"
   ]
  },
  {
   "cell_type": "markdown",
   "metadata": {},
   "source": [
    "Let's take a look at the data."
   ]
  },
  {
   "cell_type": "code",
   "execution_count": 30,
   "metadata": {
    "collapsed": false
   },
   "outputs": [
    {
     "data": {
      "text/html": [
       "<table>\n",
       "<thead><tr><th></th><th scope=col>section.id</th><th scope=col>country</th><th scope=col>city</th><th scope=col>valid</th><th scope=col>protest</th><th scope=col>tt</th><th scope=col>rr</th><th scope=col>cc</th><th scope=col>kk</th><th scope=col>vm</th><th scope=col>po</th></tr></thead>\n",
       "<tbody>\n",
       "\t<tr><th scope=row>1</th><td>320100003                                                                                                                                                                                                                                                                        </td><td>                                                                                                                                                                                                                                                                                 </td><td><U+0432><U+0430> <U+0410><U+0432><U+0441><U+0442><U+0440><U+0430><U+043B><U+0438><U+044F>,\n",
       "\t\t<U+043C><U+044F><U+0441><U+0442><U+043E> <U+043D><U+0430> <U+0433><U+043B><U+0430><U+0441><U+0443><U+0432><U+0430><U+043D><U+0435> <U+0411><U+0440><U+0438><U+0437><U+0431><U+0435></td><td>45                                                                                                                                                                                                                                                                               </td><td>2                                                                                                                                                                                                                                                                                </td><td>14                                                                                                                                                                                                                                                                               </td><td>13                                                                                                                                                                                                                                                                               </td><td>4                                                                                                                                                                                                                                                                                </td><td>7                                                                                                                                                                                                                                                                                </td><td>4                                                                                                                                                                                                                                                                                </td><td>0                                                                                                                                                                                                                                                                                </td></tr>\n",
       "\t<tr><th scope=row>2</th><td>320100001                                                                                                                                                                                                                                                                        </td><td>                                                                                                                                                                                                                                                                                 </td><td><U+0432><U+0430> <U+0410><U+0432><U+0441><U+0442><U+0440><U+0430><U+043B><U+0438><U+044F>,\n",
       "\t\t<U+043C><U+044F><U+0441><U+0442><U+043E> <U+043D><U+0430> <U+0433><U+043B><U+0430><U+0441><U+0443><U+0432><U+0430><U+043D><U+0435> <U+041A><U+0430><U+043D><U+0431><U+0435><U+0440></td><td>40                                                                                                                                                                                                                                                                               </td><td>1                                                                                                                                                                                                                                                                                </td><td>3                                                                                                                                                                                                                                                                                </td><td>17                                                                                                                                                                                                                                                                               </td><td>11                                                                                                                                                                                                                                                                               </td><td>0                                                                                                                                                                                                                                                                                </td><td>1                                                                                                                                                                                                                                                                                </td><td>0                                                                                                                                                                                                                                                                                </td></tr>\n",
       "\t<tr><th scope=row>3</th><td>320100004                                                                                                                                                                                                                                                                        </td><td>                                                                                                                                                                                                                                                                                 </td><td><U+0432><U+0430> <U+0410><U+0432><U+0441><U+0442><U+0440><U+0430><U+043B><U+0438><U+044F>,\n",
       "\t\t<U+043C><U+044F><U+0441><U+0442><U+043E> <U+043D><U+0430> <U+0433><U+043B><U+0430><U+0441><U+0443><U+0432><U+0430><U+043D><U+0435> <U+041C><U+0435><U+043B><U+0431><U+044A><U+0440></td><td>115                                                                                                                                                                                                                                                                              </td><td>3                                                                                                                                                                                                                                                                                </td><td>45                                                                                                                                                                                                                                                                               </td><td>13                                                                                                                                                                                                                                                                               </td><td>24                                                                                                                                                                                                                                                                               </td><td>22                                                                                                                                                                                                                                                                               </td><td>1                                                                                                                                                                                                                                                                                </td><td>0                                                                                                                                                                                                                                                                                </td></tr>\n",
       "\t<tr><th scope=row>4</th><td>320100005                                                                                                                                                                                                                                                         </td><td>                                                                                                                                                                                                                                                                  </td><td><U+0432><U+0430> <U+0410><U+0432><U+0441><U+0442><U+0440><U+0430><U+043B><U+0438><U+044F>,\n",
       "\t\t<U+043C><U+044F><U+0441><U+0442><U+043E> <U+043D><U+0430> <U+0433><U+043B><U+0430><U+0441><U+0443><U+0432><U+0430><U+043D><U+0435> <U+041F><U+044A><U+0440><U+0442>\t</td><td>81                                                                                                                                                                                                                                                                </td><td>9                                                                                                                                                                                                                                                                 </td><td>30                                                                                                                                                                                                                                                                </td><td>11                                                                                                                                                                                                                                                                </td><td>11                                                                                                                                                                                                                                                                </td><td>7                                                                                                                                                                                                                                                                 </td><td>2                                                                                                                                                                                                                                                                 </td><td>0                                                                                                                                                                                                                                                                 </td></tr>\n",
       "\t<tr><th scope=row>5</th><td>320100002                                                                                                                                                                                                                                                                 </td><td>                                                                                                                                                                                                                                                                          </td><td><U+0432><U+0430> <U+0410><U+0432><U+0441><U+0442><U+0440><U+0430><U+043B><U+0438><U+044F>,\n",
       "\t\t<U+043C><U+044F><U+0441><U+0442><U+043E> <U+043D><U+0430> <U+0433><U+043B><U+0430><U+0441><U+0443><U+0432><U+0430><U+043D><U+0435> <U+0421><U+0438><U+0434><U+043D><U+0438>\t</td><td>148                                                                                                                                                                                                                                                                       </td><td>8                                                                                                                                                                                                                                                                         </td><td>60                                                                                                                                                                                                                                                                        </td><td>22                                                                                                                                                                                                                                                                        </td><td>16                                                                                                                                                                                                                                                                        </td><td>10                                                                                                                                                                                                                                                                        </td><td>8                                                                                                                                                                                                                                                                         </td><td>1                                                                                                                                                                                                                                                                         </td></tr>\n",
       "\t<tr><th scope=row>6</th><td>320200012                                                                                                                                                                                                                                                                 </td><td>                                                                                                                                                                                                                                                                          </td><td><U+0432><U+0430> <U+0410><U+0432><U+0441><U+0442><U+0440><U+0438><U+044F>,\n",
       "\t\t<U+043C><U+044F><U+0441><U+0442><U+043E> <U+043D><U+0430> <U+0433><U+043B><U+0430><U+0441><U+0443><U+0432><U+0430><U+043D><U+0435> <U+0411><U+0440><U+0435><U+0433><U+0435><U+043D><U+0446>\t</td><td>122                                                                                                                                                                                                                                                                       </td><td>13                                                                                                                                                                                                                                                                        </td><td>23                                                                                                                                                                                                                                                                        </td><td>19                                                                                                                                                                                                                                                                        </td><td>24                                                                                                                                                                                                                                                                        </td><td>14                                                                                                                                                                                                                                                                        </td><td>19                                                                                                                                                                                                                                                                        </td><td>0                                                                                                                                                                                                                                                                         </td></tr>\n",
       "</tbody>\n",
       "</table>\n"
      ],
      "text/latex": [
       "\\begin{tabular}{r|lllllllllll}\n",
       "  & section.id & country & city & valid & protest & tt & rr & cc & kk & vm & po\\\\\n",
       "\\hline\n",
       "\t1 & 320100003                                                                                                                                                                                                                                                                         &                                                                                                                                                                                                                                                                                   & <U+0432><U+0430> <U+0410><U+0432><U+0441><U+0442><U+0440><U+0430><U+043B><U+0438><U+044F>,\n",
       "\t\t<U+043C><U+044F><U+0441><U+0442><U+043E> <U+043D><U+0430> <U+0433><U+043B><U+0430><U+0441><U+0443><U+0432><U+0430><U+043D><U+0435> <U+0411><U+0440><U+0438><U+0437><U+0431><U+0435> & 45                                                                                                                                                                                                                                                                                & 2                                                                                                                                                                                                                                                                                 & 14                                                                                                                                                                                                                                                                                & 13                                                                                                                                                                                                                                                                                & 4                                                                                                                                                                                                                                                                                 & 7                                                                                                                                                                                                                                                                                 & 4                                                                                                                                                                                                                                                                                 & 0                                                                                                                                                                                                                                                                                \\\\\n",
       "\t2 & 320100001                                                                                                                                                                                                                                                                         &                                                                                                                                                                                                                                                                                   & <U+0432><U+0430> <U+0410><U+0432><U+0441><U+0442><U+0440><U+0430><U+043B><U+0438><U+044F>,\n",
       "\t\t<U+043C><U+044F><U+0441><U+0442><U+043E> <U+043D><U+0430> <U+0433><U+043B><U+0430><U+0441><U+0443><U+0432><U+0430><U+043D><U+0435> <U+041A><U+0430><U+043D><U+0431><U+0435><U+0440> & 40                                                                                                                                                                                                                                                                                & 1                                                                                                                                                                                                                                                                                 & 3                                                                                                                                                                                                                                                                                 & 17                                                                                                                                                                                                                                                                                & 11                                                                                                                                                                                                                                                                                & 0                                                                                                                                                                                                                                                                                 & 1                                                                                                                                                                                                                                                                                 & 0                                                                                                                                                                                                                                                                                \\\\\n",
       "\t3 & 320100004                                                                                                                                                                                                                                                                         &                                                                                                                                                                                                                                                                                   & <U+0432><U+0430> <U+0410><U+0432><U+0441><U+0442><U+0440><U+0430><U+043B><U+0438><U+044F>,\n",
       "\t\t<U+043C><U+044F><U+0441><U+0442><U+043E> <U+043D><U+0430> <U+0433><U+043B><U+0430><U+0441><U+0443><U+0432><U+0430><U+043D><U+0435> <U+041C><U+0435><U+043B><U+0431><U+044A><U+0440> & 115                                                                                                                                                                                                                                                                               & 3                                                                                                                                                                                                                                                                                 & 45                                                                                                                                                                                                                                                                                & 13                                                                                                                                                                                                                                                                                & 24                                                                                                                                                                                                                                                                                & 22                                                                                                                                                                                                                                                                                & 1                                                                                                                                                                                                                                                                                 & 0                                                                                                                                                                                                                                                                                \\\\\n",
       "\t4 & 320100005                                                                                                                                                                                                                                                          &                                                                                                                                                                                                                                                                    & <U+0432><U+0430> <U+0410><U+0432><U+0441><U+0442><U+0440><U+0430><U+043B><U+0438><U+044F>,\n",
       "\t\t<U+043C><U+044F><U+0441><U+0442><U+043E> <U+043D><U+0430> <U+0433><U+043B><U+0430><U+0441><U+0443><U+0432><U+0430><U+043D><U+0435> <U+041F><U+044A><U+0440><U+0442>\t & 81                                                                                                                                                                                                                                                                 & 9                                                                                                                                                                                                                                                                  & 30                                                                                                                                                                                                                                                                 & 11                                                                                                                                                                                                                                                                 & 11                                                                                                                                                                                                                                                                 & 7                                                                                                                                                                                                                                                                  & 2                                                                                                                                                                                                                                                                  & 0                                                                                                                                                                                                                                                                 \\\\\n",
       "\t5 & 320100002                                                                                                                                                                                                                                                                  &                                                                                                                                                                                                                                                                            & <U+0432><U+0430> <U+0410><U+0432><U+0441><U+0442><U+0440><U+0430><U+043B><U+0438><U+044F>,\n",
       "\t\t<U+043C><U+044F><U+0441><U+0442><U+043E> <U+043D><U+0430> <U+0433><U+043B><U+0430><U+0441><U+0443><U+0432><U+0430><U+043D><U+0435> <U+0421><U+0438><U+0434><U+043D><U+0438>\t & 148                                                                                                                                                                                                                                                                        & 8                                                                                                                                                                                                                                                                          & 60                                                                                                                                                                                                                                                                         & 22                                                                                                                                                                                                                                                                         & 16                                                                                                                                                                                                                                                                         & 10                                                                                                                                                                                                                                                                         & 8                                                                                                                                                                                                                                                                          & 1                                                                                                                                                                                                                                                                         \\\\\n",
       "\t6 & 320200012                                                                                                                                                                                                                                                                  &                                                                                                                                                                                                                                                                            & <U+0432><U+0430> <U+0410><U+0432><U+0441><U+0442><U+0440><U+0438><U+044F>,\n",
       "\t\t<U+043C><U+044F><U+0441><U+0442><U+043E> <U+043D><U+0430> <U+0433><U+043B><U+0430><U+0441><U+0443><U+0432><U+0430><U+043D><U+0435> <U+0411><U+0440><U+0435><U+0433><U+0435><U+043D><U+0446>\t & 122                                                                                                                                                                                                                                                                        & 13                                                                                                                                                                                                                                                                         & 23                                                                                                                                                                                                                                                                         & 19                                                                                                                                                                                                                                                                         & 24                                                                                                                                                                                                                                                                         & 14                                                                                                                                                                                                                                                                         & 19                                                                                                                                                                                                                                                                         & 0                                                                                                                                                                                                                                                                         \\\\\n",
       "\\end{tabular}\n"
      ],
      "text/plain": [
       "  section.id country\n",
       "1  320100003        \n",
       "2  320100001        \n",
       "3  320100004        \n",
       "4  320100005        \n",
       "5  320100002        \n",
       "6  320200012        \n",
       "                                                                                                                                                                                                                                                                               city\n",
       "1 <U+0432><U+0430> <U+0410><U+0432><U+0441><U+0442><U+0440><U+0430><U+043B><U+0438><U+044F>,\\n\\t\\t<U+043C><U+044F><U+0441><U+0442><U+043E> <U+043D><U+0430> <U+0433><U+043B><U+0430><U+0441><U+0443><U+0432><U+0430><U+043D><U+0435> <U+0411><U+0440><U+0438><U+0437><U+0431><U+0435>\n",
       "2 <U+0432><U+0430> <U+0410><U+0432><U+0441><U+0442><U+0440><U+0430><U+043B><U+0438><U+044F>,\\n\\t\\t<U+043C><U+044F><U+0441><U+0442><U+043E> <U+043D><U+0430> <U+0433><U+043B><U+0430><U+0441><U+0443><U+0432><U+0430><U+043D><U+0435> <U+041A><U+0430><U+043D><U+0431><U+0435><U+0440>\n",
       "3 <U+0432><U+0430> <U+0410><U+0432><U+0441><U+0442><U+0440><U+0430><U+043B><U+0438><U+044F>,\\n\\t\\t<U+043C><U+044F><U+0441><U+0442><U+043E> <U+043D><U+0430> <U+0433><U+043B><U+0430><U+0441><U+0443><U+0432><U+0430><U+043D><U+0435> <U+041C><U+0435><U+043B><U+0431><U+044A><U+0440>\n",
       "4                <U+0432><U+0430> <U+0410><U+0432><U+0441><U+0442><U+0440><U+0430><U+043B><U+0438><U+044F>,\\n\\t\\t<U+043C><U+044F><U+0441><U+0442><U+043E> <U+043D><U+0430> <U+0433><U+043B><U+0430><U+0441><U+0443><U+0432><U+0430><U+043D><U+0435> <U+041F><U+044A><U+0440><U+0442>\\t\n",
       "5        <U+0432><U+0430> <U+0410><U+0432><U+0441><U+0442><U+0440><U+0430><U+043B><U+0438><U+044F>,\\n\\t\\t<U+043C><U+044F><U+0441><U+0442><U+043E> <U+043D><U+0430> <U+0433><U+043B><U+0430><U+0441><U+0443><U+0432><U+0430><U+043D><U+0435> <U+0421><U+0438><U+0434><U+043D><U+0438>\\t\n",
       "6        <U+0432><U+0430> <U+0410><U+0432><U+0441><U+0442><U+0440><U+0438><U+044F>,\\n\\t\\t<U+043C><U+044F><U+0441><U+0442><U+043E> <U+043D><U+0430> <U+0433><U+043B><U+0430><U+0441><U+0443><U+0432><U+0430><U+043D><U+0435> <U+0411><U+0440><U+0435><U+0433><U+0435><U+043D><U+0446>\\t\n",
       "  valid protest tt rr cc kk vm po\n",
       "1    45       2 14 13  4  7  4  0\n",
       "2    40       1  3 17 11  0  1  0\n",
       "3   115       3 45 13 24 22  1  0\n",
       "4    81       9 30 11 11  7  2  0\n",
       "5   148       8 60 22 16 10  8  1\n",
       "6   122      13 23 19 24 14 19  0"
      ]
     },
     "metadata": {},
     "output_type": "display_data"
    }
   ],
   "source": [
    "head(ballots.df)"
   ]
  },
  {
   "cell_type": "markdown",
   "metadata": {},
   "source": [
    "There are two things to note here. \n",
    "* The country and city variables despite being encoded in UTF-8 are not displayed properly. Therefore, we will manually enter their values in English using Excel. This is something to come back to and resolve because any data manipulation outside R undermines the reproducibility of the data. \n",
    "* The number of votes collected by the top 6 candidates are less than or equal to the number of total valid votes - this is because we did not capture the ballots cast for the marginal candidates. \n",
    "\n",
    "We will save the dataframe as a .csv file, enter the English transcription of the country and city names, and re-load the edited .csv file. "
   ]
  },
  {
   "cell_type": "code",
   "execution_count": 31,
   "metadata": {
    "collapsed": true
   },
   "outputs": [],
   "source": [
    "write.csv(ballots.df, \"ballots_cyrillic.csv\")"
   ]
  },
  {
   "cell_type": "markdown",
   "metadata": {},
   "source": [
    "This completes the data collection step. In Part II we will analyze the data."
   ]
  }
 ],
 "metadata": {
  "anaconda-cloud": {},
  "kernelspec": {
   "display_name": "R",
   "language": "R",
   "name": "ir"
  },
  "language_info": {
   "codemirror_mode": "r",
   "file_extension": ".r",
   "mimetype": "text/x-r-source",
   "name": "R",
   "pygments_lexer": "r",
   "version": "3.3.1"
  }
 },
 "nbformat": 4,
 "nbformat_minor": 1
}
