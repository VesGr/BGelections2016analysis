{
 "cells": [
  {
   "cell_type": "markdown",
   "metadata": {},
   "source": [
    "# Analysis of the first round of the 2016 Bulgarian presidential elections\n",
    "\n",
    "## Part III - Analysis\n",
    "\n",
    "After scraping the data for each voting section oustide Bulgaria and pre-processing the data for analysis, we will delve in and examine the data, both in aggregate and by section. \n",
    "\n",
    "As discussed in Part I, among the 21 presidential candidates, only 6 gathered more than 4% of the vote and we limit the analysis to these six candidates. They can be described as follows:\n",
    "\n",
    "* Traicho Traikov (TT) - a pro-Western, anti-corruption technocrat \n",
    "* Rumen Radev (RR) - a pro-Russian airforce general\n",
    "* Cecka Caceva (CC) - the status quo candidate, balancing between the West and Russia\n",
    "* Krassimir Karakachanov (KK) - a pro-Russian far-right nationalist\n",
    "* Vesselin Mareshki (VM) - a local oligarch and independent candidate\n",
    "* Plamen Oresharski (PO) - representing the Turkish minority party and widely perceived as just another candidate of the oligarchy\n",
    "\n",
    "People were also allowed to check a box indicating that they do not support any of the candidates, which represented the protest vote. Therefore, we also collected information on the number of protest votes abroad.\n"
   ]
  },
  {
   "cell_type": "code",
   "execution_count": 14,
   "metadata": {
    "collapsed": false,
    "scrolled": true
   },
   "outputs": [
    {
     "name": "stdout",
     "output_type": "stream",
     "text": [
      "'data.frame':\t325 obs. of  33 variables:\n",
      " $ X           : int  1 2 3 4 5 6 7 8 9 10 ...\n",
      " $ section.id  : int  320100003 320100001 320100004 320100005 320100002 320200012 320200006 320200007 320200013 320200302 ...\n",
      " $ country     : chr  \"Australia\" \"Australia\" \"Australia\" \"Australia\" ...\n",
      " $ city        : chr  \"Brisbane\" \"Canberra\" \"Melbourne\" \"Perth\" ...\n",
      " $ valid       : int  45 40 115 81 148 122 608 761 558 505 ...\n",
      " $ protest     : int  2 1 3 9 8 13 32 61 35 30 ...\n",
      " $ tt          : int  14 3 45 30 60 23 149 243 177 154 ...\n",
      " $ rr          : int  13 17 13 11 22 19 100 141 112 89 ...\n",
      " $ cc          : int  4 11 24 11 16 24 112 107 75 77 ...\n",
      " $ kk          : int  7 0 22 7 10 14 71 82 66 72 ...\n",
      " $ vm          : int  4 1 1 2 8 19 51 43 28 28 ...\n",
      " $ po          : int  0 0 0 0 1 0 20 11 4 7 ...\n",
      " $ valid.net   : int  43 39 112 72 140 109 576 700 523 475 ...\n",
      " $ tt.perc     : num  0.3256 0.0769 0.4018 0.4167 0.4286 ...\n",
      " $ rr.perc     : num  0.302 0.436 0.116 0.153 0.157 ...\n",
      " $ cc.perc     : num  0.093 0.282 0.214 0.153 0.114 ...\n",
      " $ kk.perc     : num  0.1628 0 0.1964 0.0972 0.0714 ...\n",
      " $ vm.perc     : num  0.09302 0.02564 0.00893 0.02778 0.05714 ...\n",
      " $ po.perc     : num  0 0 0 0 0.00714 ...\n",
      " $ top6.ballots: int  42 32 105 61 117 99 503 627 462 427 ...\n",
      " $ top6.perc   : num  0.933 0.8 0.913 0.753 0.791 ...\n",
      " $ tt.rank     : int  1 3 1 1 1 2 1 1 1 1 ...\n",
      " $ rr.rank     : int  2 1 4 2 2 3 3 2 2 2 ...\n",
      " $ cc.rank     : int  4 2 2 2 3 1 2 3 3 3 ...\n",
      " $ kk.rank     : int  3 5 3 4 4 5 4 4 4 4 ...\n",
      " $ vm.rank     : int  4 4 5 5 5 3 5 5 5 5 ...\n",
      " $ po.rank     : int  6 5 6 6 6 6 6 6 6 6 ...\n",
      " $ tt.1        : int  1 3 1 1 1 2 1 1 1 1 ...\n",
      " $ rr.1        : int  2 1 4 2 2 3 3 2 2 2 ...\n",
      " $ cc.1        : int  4 2 2 2 3 1 2 3 3 3 ...\n",
      " $ kk.1        : int  3 5 3 4 4 5 4 4 4 4 ...\n",
      " $ vm.1        : int  4 4 5 5 5 3 5 5 5 5 ...\n",
      " $ po.1        : int  6 5 6 6 6 6 6 6 6 6 ...\n"
     ]
    },
    {
     "data": {
      "text/html": [
       "<ol class=list-inline>\n",
       "\t<li>325</li>\n",
       "\t<li>33</li>\n",
       "</ol>\n"
      ],
      "text/latex": [
       "\\begin{enumerate*}\n",
       "\\item 325\n",
       "\\item 33\n",
       "\\end{enumerate*}\n"
      ],
      "text/markdown": [
       "1. 325\n",
       "2. 33\n",
       "\n",
       "\n"
      ],
      "text/plain": [
       "[1] 325  33"
      ]
     },
     "metadata": {},
     "output_type": "display_data"
    }
   ],
   "source": [
    "setwd(\"C:/Users/grozeve/Documents/_9_Misc/DataScience/My projects/bg_election\")\n",
    "ballots.df <- read.csv(\"ballots.csv\", stringsAsFactor=FALSE)\n",
    "str(ballots.df)\n",
    "dim(ballots.df)"
   ]
  },
  {
   "cell_type": "code",
   "execution_count": 15,
   "metadata": {
    "collapsed": false
   },
   "outputs": [
    {
     "data": {
      "text/html": [
       "<table>\n",
       "<thead><tr><th></th><th scope=col>X</th><th scope=col>section.id</th><th scope=col>country</th><th scope=col>city</th><th scope=col>valid</th><th scope=col>protest</th><th scope=col>tt</th><th scope=col>rr</th><th scope=col>cc</th><th scope=col>kk</th><th scope=col>...</th><th scope=col>vm.perc</th><th scope=col>po.perc</th><th scope=col>top6.ballots</th><th scope=col>top6.perc</th><th scope=col>tt.rank</th><th scope=col>rr.rank</th><th scope=col>cc.rank</th><th scope=col>kk.rank</th><th scope=col>vm.rank</th><th scope=col>po.rank</th></tr></thead>\n",
       "<tbody>\n",
       "\t<tr><th scope=row>1</th><td>1                 </td><td>320100003         </td><td>Australia         </td><td>Brisbane          </td><td>45                </td><td>2                 </td><td>14                </td><td>13                </td><td>4                 </td><td>7                 </td><td>...               </td><td>0.0930232558139535</td><td>0                 </td><td>42                </td><td>0.933333333333333 </td><td>1                 </td><td>2                 </td><td>4                 </td><td>3                 </td><td>4                 </td><td>6                 </td></tr>\n",
       "\t<tr><th scope=row>2</th><td>2                 </td><td>320100001         </td><td>Australia         </td><td>Canberra          </td><td>40                </td><td>1                 </td><td>3                 </td><td>17                </td><td>11                </td><td>0                 </td><td>...               </td><td>0.0256410256410256</td><td>0                 </td><td>32                </td><td>0.8               </td><td>3                 </td><td>1                 </td><td>2                 </td><td>5                 </td><td>4                 </td><td>5                 </td></tr>\n",
       "\t<tr><th scope=row>3</th><td>3                  </td><td>320100004          </td><td>Australia          </td><td>Melbourne          </td><td>115                </td><td>3                  </td><td>45                 </td><td>13                 </td><td>24                 </td><td>22                 </td><td>...                </td><td>0.00892857142857143</td><td>0                  </td><td>105                </td><td>0.91304347826087   </td><td>1                  </td><td>4                  </td><td>2                  </td><td>3                  </td><td>5                  </td><td>6                  </td></tr>\n",
       "\t<tr><th scope=row>4</th><td>4                 </td><td>320100005         </td><td>Australia         </td><td>Perth             </td><td>81                </td><td>9                 </td><td>30                </td><td>11                </td><td>11                </td><td>7                 </td><td>...               </td><td>0.0277777777777778</td><td>0                 </td><td>61                </td><td>0.753086419753086 </td><td>1                 </td><td>2                 </td><td>2                 </td><td>4                 </td><td>5                 </td><td>6                 </td></tr>\n",
       "\t<tr><th scope=row>5</th><td>5                  </td><td>320100002          </td><td>Australia          </td><td>Sidney             </td><td>148                </td><td>8                  </td><td>60                 </td><td>22                 </td><td>16                 </td><td>10                 </td><td>...                </td><td>0.0571428571428571 </td><td>0.00714285714285714</td><td>117                </td><td>0.790540540540541  </td><td>1                  </td><td>2                  </td><td>3                  </td><td>4                  </td><td>5                  </td><td>6                  </td></tr>\n",
       "\t<tr><th scope=row>6</th><td>6                </td><td>320200012        </td><td>Austria          </td><td>Bregenz          </td><td>122              </td><td>13               </td><td>23               </td><td>19               </td><td>24               </td><td>14               </td><td>...              </td><td>0.174311926605505</td><td>0                </td><td>99               </td><td>0.811475409836066</td><td>2                </td><td>3                </td><td>1                </td><td>5                </td><td>3                </td><td>6                </td></tr>\n",
       "</tbody>\n",
       "</table>\n"
      ],
      "text/latex": [
       "\\begin{tabular}{r|lllllllllllllllllllllllllll}\n",
       "  & X & section.id & country & city & valid & protest & tt & rr & cc & kk & ... & vm.perc & po.perc & top6.ballots & top6.perc & tt.rank & rr.rank & cc.rank & kk.rank & vm.rank & po.rank\\\\\n",
       "\\hline\n",
       "\t1 & 1                  & 320100003          & Australia          & Brisbane           & 45                 & 2                  & 14                 & 13                 & 4                  & 7                  & ...                & 0.0930232558139535 & 0                  & 42                 & 0.933333333333333  & 1                  & 2                  & 4                  & 3                  & 4                  & 6                 \\\\\n",
       "\t2 & 2                  & 320100001          & Australia          & Canberra           & 40                 & 1                  & 3                  & 17                 & 11                 & 0                  & ...                & 0.0256410256410256 & 0                  & 32                 & 0.8                & 3                  & 1                  & 2                  & 5                  & 4                  & 5                 \\\\\n",
       "\t3 & 3                   & 320100004           & Australia           & Melbourne           & 115                 & 3                   & 45                  & 13                  & 24                  & 22                  & ...                 & 0.00892857142857143 & 0                   & 105                 & 0.91304347826087    & 1                   & 4                   & 2                   & 3                   & 5                   & 6                  \\\\\n",
       "\t4 & 4                  & 320100005          & Australia          & Perth              & 81                 & 9                  & 30                 & 11                 & 11                 & 7                  & ...                & 0.0277777777777778 & 0                  & 61                 & 0.753086419753086  & 1                  & 2                  & 2                  & 4                  & 5                  & 6                 \\\\\n",
       "\t5 & 5                   & 320100002           & Australia           & Sidney              & 148                 & 8                   & 60                  & 22                  & 16                  & 10                  & ...                 & 0.0571428571428571  & 0.00714285714285714 & 117                 & 0.790540540540541   & 1                   & 2                   & 3                   & 4                   & 5                   & 6                  \\\\\n",
       "\t6 & 6                 & 320200012         & Austria           & Bregenz           & 122               & 13                & 23                & 19                & 24                & 14                & ...               & 0.174311926605505 & 0                 & 99                & 0.811475409836066 & 2                 & 3                 & 1                 & 5                 & 3                 & 6                \\\\\n",
       "\\end{tabular}\n"
      ],
      "text/plain": [
       "  X section.id   country      city valid protest tt rr cc kk ...     vm.perc\n",
       "1 1  320100003 Australia  Brisbane    45       2 14 13  4  7 ... 0.093023256\n",
       "2 2  320100001 Australia  Canberra    40       1  3 17 11  0 ... 0.025641026\n",
       "3 3  320100004 Australia Melbourne   115       3 45 13 24 22 ... 0.008928571\n",
       "4 4  320100005 Australia     Perth    81       9 30 11 11  7 ... 0.027777778\n",
       "5 5  320100002 Australia    Sidney   148       8 60 22 16 10 ... 0.057142857\n",
       "6 6  320200012   Austria   Bregenz   122      13 23 19 24 14 ... 0.174311927\n",
       "      po.perc top6.ballots top6.perc tt.rank rr.rank cc.rank kk.rank vm.rank\n",
       "1 0.000000000           42 0.9333333       1       2       4       3       4\n",
       "2 0.000000000           32 0.8000000       3       1       2       5       4\n",
       "3 0.000000000          105 0.9130435       1       4       2       3       5\n",
       "4 0.000000000           61 0.7530864       1       2       2       4       5\n",
       "5 0.007142857          117 0.7905405       1       2       3       4       5\n",
       "6 0.000000000           99 0.8114754       2       3       1       5       3\n",
       "  po.rank\n",
       "1       6\n",
       "2       5\n",
       "3       6\n",
       "4       6\n",
       "5       6\n",
       "6       6"
      ]
     },
     "metadata": {},
     "output_type": "display_data"
    }
   ],
   "source": [
    "# The rank variables seem to have been duplicated, so we will delete them.\n",
    "ballots.df <- ballots.df[ , -c(28:33)]\n",
    "head(ballots.df)"
   ]
  },
  {
   "cell_type": "markdown",
   "metadata": {},
   "source": [
    "### Aggregate voting results outside Bulgaria - the Turkey effect\n",
    "We will first look the aggregate votes collected by each Top 6 candidate. We will also calculate these results by excluding votes cast in Turkey for two reasons: 1) Bulgarian citizens living in Turkey tend to vote for the Turkish minority party, which makes these votes less informative; and 2) they represent a large portion of the total number of votes outside Bulgaria and can skew the results. Let's see how large this portion is:"
   ]
  },
  {
   "cell_type": "code",
   "execution_count": 4,
   "metadata": {
    "collapsed": false
   },
   "outputs": [
    {
     "data": {
      "text/html": [
       "110566"
      ],
      "text/latex": [
       "110566"
      ],
      "text/markdown": [
       "110566"
      ],
      "text/plain": [
       "[1] 110566"
      ]
     },
     "metadata": {},
     "output_type": "display_data"
    }
   ],
   "source": [
    "# Total number of votes cast outside Bulgaria\n",
    "sum(ballots.df[ ,5])"
   ]
  },
  {
   "cell_type": "code",
   "execution_count": 18,
   "metadata": {
    "collapsed": false
   },
   "outputs": [
    {
     "data": {
      "text/html": [
       "80938"
      ],
      "text/latex": [
       "80938"
      ],
      "text/markdown": [
       "80938"
      ],
      "text/plain": [
       "[1] 80938"
      ]
     },
     "metadata": {},
     "output_type": "display_data"
    },
    {
     "data": {
      "text/html": [
       "0.267966644357217"
      ],
      "text/latex": [
       "0.267966644357217"
      ],
      "text/markdown": [
       "0.267966644357217"
      ],
      "text/plain": [
       "[1] 0.2679666"
      ]
     },
     "metadata": {},
     "output_type": "display_data"
    }
   ],
   "source": [
    "# Total number of votes cast outside Bulgaria, but excluding Turkey\n",
    "sum(ballots.df[which(ballots.df$country!=\"Turkey\"),5])\n",
    "\n",
    "# Share of ballots cast in Turkey over all ballots cast outside Bulgaria\n",
    "sum(ballots.df[which(ballots.df$country==\"Turkey\"),5])/sum(ballots.df[ ,5])"
   ]
  },
  {
   "cell_type": "markdown",
   "metadata": {},
   "source": [
    "As shown above, votes cast in Turkey amount to close to 30,000, or roughly 1 in 4 votes outside of Bulgaria. This is a significant share of the total vote.\n",
    "\n",
    "We will further show that the voting results vary significantly between Turkey and the rest of the foreign voting locations."
   ]
  },
  {
   "cell_type": "code",
   "execution_count": 19,
   "metadata": {
    "collapsed": false
   },
   "outputs": [
    {
     "data": {
      "text/html": [
       "<dl class=dl-horizontal>\n",
       "\t<dt>tt</dt>\n",
       "\t\t<dd>14560</dd>\n",
       "\t<dt>rr</dt>\n",
       "\t\t<dd>18138</dd>\n",
       "\t<dt>cc</dt>\n",
       "\t\t<dd>27552</dd>\n",
       "\t<dt>kk</dt>\n",
       "\t\t<dd>12185</dd>\n",
       "\t<dt>vm</dt>\n",
       "\t\t<dd>6709</dd>\n",
       "\t<dt>po</dt>\n",
       "\t\t<dd>15654</dd>\n",
       "</dl>\n"
      ],
      "text/latex": [
       "\\begin{description*}\n",
       "\\item[tt] 14560\n",
       "\\item[rr] 18138\n",
       "\\item[cc] 27552\n",
       "\\item[kk] 12185\n",
       "\\item[vm] 6709\n",
       "\\item[po] 15654\n",
       "\\end{description*}\n"
      ],
      "text/markdown": [
       "tt\n",
       ":   14560rr\n",
       ":   18138cc\n",
       ":   27552kk\n",
       ":   12185vm\n",
       ":   6709po\n",
       ":   15654\n",
       "\n"
      ],
      "text/plain": [
       "   tt    rr    cc    kk    vm    po \n",
       "14560 18138 27552 12185  6709 15654 "
      ]
     },
     "metadata": {},
     "output_type": "display_data"
    }
   ],
   "source": [
    "# Aggregate votes from all sections outside Bulgaria, including those in Turkey\n",
    "aggr.all <- colSums(ballots.df[ , 7:12])\n",
    "aggr.all"
   ]
  },
  {
   "cell_type": "code",
   "execution_count": 7,
   "metadata": {
    "collapsed": false
   },
   "outputs": [
    {
     "data": {
      "text/html": [
       "<dl class=dl-horizontal>\n",
       "\t<dt>tt</dt>\n",
       "\t\t<dd>201</dd>\n",
       "\t<dt>rr</dt>\n",
       "\t\t<dd>337</dd>\n",
       "\t<dt>cc</dt>\n",
       "\t\t<dd>12525</dd>\n",
       "\t<dt>kk</dt>\n",
       "\t\t<dd>64</dd>\n",
       "\t<dt>vm</dt>\n",
       "\t\t<dd>322</dd>\n",
       "\t<dt>po</dt>\n",
       "\t\t<dd>14993</dd>\n",
       "</dl>\n"
      ],
      "text/latex": [
       "\\begin{description*}\n",
       "\\item[tt] 201\n",
       "\\item[rr] 337\n",
       "\\item[cc] 12525\n",
       "\\item[kk] 64\n",
       "\\item[vm] 322\n",
       "\\item[po] 14993\n",
       "\\end{description*}\n"
      ],
      "text/markdown": [
       "tt\n",
       ":   201rr\n",
       ":   337cc\n",
       ":   12525kk\n",
       ":   64vm\n",
       ":   322po\n",
       ":   14993\n",
       "\n"
      ],
      "text/plain": [
       "   tt    rr    cc    kk    vm    po \n",
       "  201   337 12525    64   322 14993 "
      ]
     },
     "metadata": {},
     "output_type": "display_data"
    }
   ],
   "source": [
    "# Aggregate votes from sections in Turkey alone\n",
    "aggr.Turkey <- colSums(ballots.df[which(ballots.df$country==\"Turkey\"), 7:12])\n",
    "aggr.Turkey"
   ]
  },
  {
   "cell_type": "code",
   "execution_count": 8,
   "metadata": {
    "collapsed": false
   },
   "outputs": [
    {
     "data": {
      "text/html": [
       "<dl class=dl-horizontal>\n",
       "\t<dt>tt</dt>\n",
       "\t\t<dd>0.0138049450549451</dd>\n",
       "\t<dt>rr</dt>\n",
       "\t\t<dd>0.0185797772632043</dd>\n",
       "\t<dt>cc</dt>\n",
       "\t\t<dd>0.454594947735192</dd>\n",
       "\t<dt>kk</dt>\n",
       "\t\t<dd>0.00525235945835043</dd>\n",
       "\t<dt>vm</dt>\n",
       "\t\t<dd>0.0479952302876733</dd>\n",
       "\t<dt>po</dt>\n",
       "\t\t<dd>0.957774370767855</dd>\n",
       "</dl>\n"
      ],
      "text/latex": [
       "\\begin{description*}\n",
       "\\item[tt] 0.0138049450549451\n",
       "\\item[rr] 0.0185797772632043\n",
       "\\item[cc] 0.454594947735192\n",
       "\\item[kk] 0.00525235945835043\n",
       "\\item[vm] 0.0479952302876733\n",
       "\\item[po] 0.957774370767855\n",
       "\\end{description*}\n"
      ],
      "text/markdown": [
       "tt\n",
       ":   0.0138049450549451rr\n",
       ":   0.0185797772632043cc\n",
       ":   0.454594947735192kk\n",
       ":   0.00525235945835043vm\n",
       ":   0.0479952302876733po\n",
       ":   0.957774370767855\n",
       "\n"
      ],
      "text/plain": [
       "         tt          rr          cc          kk          vm          po \n",
       "0.013804945 0.018579777 0.454594948 0.005252359 0.047995230 0.957774371 "
      ]
     },
     "metadata": {},
     "output_type": "display_data"
    }
   ],
   "source": [
    "aggr.Turkey/aggr.all"
   ]
  },
  {
   "cell_type": "markdown",
   "metadata": {},
   "source": [
    "Over 95% of the votes for the candidate of the Turkish minority candidate (PO) and  over 45% of the votes for the \"status quo\" candidate (CC) come from the votes cast in Turkey. \n",
    "\n",
    "Or, represented visualy:"
   ]
  },
  {
   "cell_type": "code",
   "execution_count": 37,
   "metadata": {
    "collapsed": false
   },
   "outputs": [
    {
     "data": {
      "text/html": [
       "<table>\n",
       "<thead><tr><th></th><th scope=col>outsideTurkey</th><th scope=col>Turkey</th><th scope=col>candidate</th></tr></thead>\n",
       "<tbody>\n",
       "\t<tr><th scope=row>tt</th><td>14359</td><td>201  </td><td>tt   </td></tr>\n",
       "\t<tr><th scope=row>rr</th><td>17801</td><td>337  </td><td>rr   </td></tr>\n",
       "\t<tr><th scope=row>cc</th><td>15027</td><td>12525</td><td>cc   </td></tr>\n",
       "\t<tr><th scope=row>kk</th><td>12121</td><td>64   </td><td>kk   </td></tr>\n",
       "\t<tr><th scope=row>vm</th><td>6387</td><td>322 </td><td>vm  </td></tr>\n",
       "\t<tr><th scope=row>po</th><td>661  </td><td>14993</td><td>po   </td></tr>\n",
       "</tbody>\n",
       "</table>\n"
      ],
      "text/latex": [
       "\\begin{tabular}{r|lll}\n",
       "  & outsideTurkey & Turkey & candidate\\\\\n",
       "\\hline\n",
       "\ttt & 14359 & 201   & tt   \\\\\n",
       "\trr & 17801 & 337   & rr   \\\\\n",
       "\tcc & 15027 & 12525 & cc   \\\\\n",
       "\tkk & 12121 & 64    & kk   \\\\\n",
       "\tvm & 6387 & 322  & vm  \\\\\n",
       "\tpo & 661   & 14993 & po   \\\\\n",
       "\\end{tabular}\n"
      ],
      "text/plain": [
       "   outsideTurkey Turkey candidate\n",
       "tt         14359    201        tt\n",
       "rr         17801    337        rr\n",
       "cc         15027  12525        cc\n",
       "kk         12121     64        kk\n",
       "vm          6387    322        vm\n",
       "po           661  14993        po"
      ]
     },
     "metadata": {},
     "output_type": "display_data"
    },
    {
     "data": {
      "text/html": [
       "<table>\n",
       "<thead><tr><th></th><th scope=col>candidate</th><th scope=col>region</th><th scope=col>votes</th></tr></thead>\n",
       "<tbody>\n",
       "\t<tr><th scope=row>1</th><td>tt           </td><td>outsideTurkey</td><td>14359        </td></tr>\n",
       "\t<tr><th scope=row>2</th><td>rr           </td><td>outsideTurkey</td><td>17801        </td></tr>\n",
       "\t<tr><th scope=row>3</th><td>cc           </td><td>outsideTurkey</td><td>15027        </td></tr>\n",
       "\t<tr><th scope=row>4</th><td>kk           </td><td>outsideTurkey</td><td>12121        </td></tr>\n",
       "\t<tr><th scope=row>5</th><td>vm           </td><td>outsideTurkey</td><td>6387         </td></tr>\n",
       "\t<tr><th scope=row>6</th><td>po           </td><td>outsideTurkey</td><td>661          </td></tr>\n",
       "\t<tr><th scope=row>7</th><td>tt    </td><td>Turkey</td><td>201   </td></tr>\n",
       "\t<tr><th scope=row>8</th><td>rr    </td><td>Turkey</td><td>337   </td></tr>\n",
       "\t<tr><th scope=row>9</th><td>cc    </td><td>Turkey</td><td>12525 </td></tr>\n",
       "\t<tr><th scope=row>10</th><td>kk    </td><td>Turkey</td><td>64    </td></tr>\n",
       "\t<tr><th scope=row>11</th><td>vm    </td><td>Turkey</td><td>322   </td></tr>\n",
       "\t<tr><th scope=row>12</th><td>po    </td><td>Turkey</td><td>14993 </td></tr>\n",
       "</tbody>\n",
       "</table>\n"
      ],
      "text/latex": [
       "\\begin{tabular}{r|lll}\n",
       "  & candidate & region & votes\\\\\n",
       "\\hline\n",
       "\t1 & tt            & outsideTurkey & 14359        \\\\\n",
       "\t2 & rr            & outsideTurkey & 17801        \\\\\n",
       "\t3 & cc            & outsideTurkey & 15027        \\\\\n",
       "\t4 & kk            & outsideTurkey & 12121        \\\\\n",
       "\t5 & vm            & outsideTurkey & 6387         \\\\\n",
       "\t6 & po            & outsideTurkey & 661          \\\\\n",
       "\t7 & tt     & Turkey & 201   \\\\\n",
       "\t8 & rr     & Turkey & 337   \\\\\n",
       "\t9 & cc     & Turkey & 12525 \\\\\n",
       "\t10 & kk     & Turkey & 64    \\\\\n",
       "\t11 & vm     & Turkey & 322   \\\\\n",
       "\t12 & po     & Turkey & 14993 \\\\\n",
       "\\end{tabular}\n"
      ],
      "text/plain": [
       "   candidate        region votes\n",
       "1         tt outsideTurkey 14359\n",
       "2         rr outsideTurkey 17801\n",
       "3         cc outsideTurkey 15027\n",
       "4         kk outsideTurkey 12121\n",
       "5         vm outsideTurkey  6387\n",
       "6         po outsideTurkey   661\n",
       "7         tt        Turkey   201\n",
       "8         rr        Turkey   337\n",
       "9         cc        Turkey 12525\n",
       "10        kk        Turkey    64\n",
       "11        vm        Turkey   322\n",
       "12        po        Turkey 14993"
      ]
     },
     "metadata": {},
     "output_type": "display_data"
    },
    {
     "data": {
      "image/png": "[encoded data removed]",
      "text/plain": [
       "plot without title"
      ]
     },
     "metadata": {
      "image/svg+xml": {
       "isolated": true
      }
     },
     "output_type": "display_data"
    }
   ],
   "source": [
    "# To work with ggplot2 we will create a dataframe with the aggregate results outside of Turkey and within Turkey\n",
    "turkey_effect.df <- data.frame(aggr.all - aggr.Turkey, aggr.Turkey)\n",
    "turkey_effect.df$candidate <- row.names(turkey_effect.df)\n",
    "colnames(turkey_effect.df)[1:2] <- c(\"outsideTurkey\", \"Turkey\")\n",
    "turkey_effect.df\n",
    "\n",
    "# Reshape to a \"tidy\" format for use with ggplot\n",
    "#install.packages(\"reshape2\", repos=\"https://cran.r-project.org\")\n",
    "require(reshape2)\n",
    "turkey_effect.df <- melt(turkey_effect.df, id.vars=\"candidate\", variable.name=\"region\", value.name=\"votes\")\n",
    "turkey_effect.df\n",
    "\n",
    "# Plot a comparison of the distribution of votes from outside Turkey and within Turkey\n",
    "#install.packages(\"ggplot2\", repos=\"https://cran.r-project.org\")\n",
    "\n",
    "require(ggplot2)\n",
    "ggplot(data=turkey_effect.df, aes(x=candidate, y=votes, fill=region))+\n",
    "            geom_bar(stat=\"identity\") + \n",
    "            scale_fill_brewer(palette=\"Greens\")+theme_minimal() +\n",
    "            labs(title=\"Composition of Bulgaria's foreign vote, outside of Turkey and within Turkey\")\n",
    "\n"
   ]
  },
  {
   "cell_type": "markdown",
   "metadata": {},
   "source": [
    "### Aggregate voting results outside Bulgaria, excluding Turkey\n",
    "\n",
    "Given the systematic differences in voting patterns within Turkey and outside Turkey, we will exclude these votes from the analysis to avoid skewing the overall results. "
   ]
  },
  {
   "cell_type": "code",
   "execution_count": 10,
   "metadata": {
    "collapsed": false
   },
   "outputs": [
    {
     "name": "stdout",
     "output_type": "stream",
     "text": [
      "'data.frame':\t290 obs. of  27 variables:\n",
      " $ X           : int  1 2 3 4 5 6 7 8 9 10 ...\n",
      " $ section.id  : int  320100003 320100001 320100004 320100005 320100002 320200012 320200006 320200007 320200013 320200302 ...\n",
      " $ country     : chr  \"Australia\" \"Australia\" \"Australia\" \"Australia\" ...\n",
      " $ city        : chr  \"Brisbane\" \"Canberra\" \"Melbourne\" \"Perth\" ...\n",
      " $ valid       : int  45 40 115 81 148 122 608 761 558 505 ...\n",
      " $ protest     : int  2 1 3 9 8 13 32 61 35 30 ...\n",
      " $ tt          : int  14 3 45 30 60 23 149 243 177 154 ...\n",
      " $ rr          : int  13 17 13 11 22 19 100 141 112 89 ...\n",
      " $ cc          : int  4 11 24 11 16 24 112 107 75 77 ...\n",
      " $ kk          : int  7 0 22 7 10 14 71 82 66 72 ...\n",
      " $ vm          : int  4 1 1 2 8 19 51 43 28 28 ...\n",
      " $ po          : int  0 0 0 0 1 0 20 11 4 7 ...\n",
      " $ valid.net   : int  43 39 112 72 140 109 576 700 523 475 ...\n",
      " $ tt.perc     : num  0.3256 0.0769 0.4018 0.4167 0.4286 ...\n",
      " $ rr.perc     : num  0.302 0.436 0.116 0.153 0.157 ...\n",
      " $ cc.perc     : num  0.093 0.282 0.214 0.153 0.114 ...\n",
      " $ kk.perc     : num  0.1628 0 0.1964 0.0972 0.0714 ...\n",
      " $ vm.perc     : num  0.09302 0.02564 0.00893 0.02778 0.05714 ...\n",
      " $ po.perc     : num  0 0 0 0 0.00714 ...\n",
      " $ top6.ballots: int  42 32 105 61 117 99 503 627 462 427 ...\n",
      " $ top6.perc   : num  0.933 0.8 0.913 0.753 0.791 ...\n",
      " $ tt.rank     : int  1 3 1 1 1 2 1 1 1 1 ...\n",
      " $ rr.rank     : int  2 1 4 2 2 3 3 2 2 2 ...\n",
      " $ cc.rank     : int  4 2 2 2 3 1 2 3 3 3 ...\n",
      " $ kk.rank     : int  3 5 3 4 4 5 4 4 4 4 ...\n",
      " $ vm.rank     : int  4 4 5 5 5 3 5 5 5 5 ...\n",
      " $ po.rank     : int  6 5 6 6 6 6 6 6 6 6 ...\n"
     ]
    }
   ],
   "source": [
    "# Limit the source dataframe to all voting sections outside Bulgaria, except sections in Turkey. \n",
    "ballots.woT <- ballots.df[which(ballots.df$country!=\"Turkey\"), ]\n",
    "str(ballots.woT)"
   ]
  },
  {
   "cell_type": "markdown",
   "metadata": {},
   "source": []
  },
  {
   "cell_type": "code",
   "execution_count": 92,
   "metadata": {
    "collapsed": false
   },
   "outputs": [
    {
     "data": {
      "text/html": [
       "\"Total number of votes cast outside Bulgaria, excluding Turkey:  66356\""
      ],
      "text/latex": [
       "\"Total number of votes cast outside Bulgaria, excluding Turkey:  66356\""
      ],
      "text/markdown": [
       "\"Total number of votes cast outside Bulgaria, excluding Turkey:  66356\""
      ],
      "text/plain": [
       "[1] \"Total number of votes cast outside Bulgaria, excluding Turkey:  66356\""
      ]
     },
     "metadata": {},
     "output_type": "display_data"
    },
    {
     "data": {
      "text/html": [
       "<table>\n",
       "<thead><tr><th></th><th scope=col>candidate</th><th scope=col>region</th><th scope=col>votes</th><th scope=col>votes_perc</th></tr></thead>\n",
       "<tbody>\n",
       "\t<tr><th scope=row>1</th><td>tt              </td><td>outsideTurkey   </td><td>14359           </td><td>0.21639339321237</td></tr>\n",
       "\t<tr><th scope=row>2</th><td>rr               </td><td>outsideTurkey    </td><td>17801            </td><td>0.268265115437941</td></tr>\n",
       "\t<tr><th scope=row>3</th><td>cc             </td><td>outsideTurkey  </td><td>15027          </td><td>0.2264603050214</td></tr>\n",
       "\t<tr><th scope=row>4</th><td>kk               </td><td>outsideTurkey    </td><td>12121            </td><td>0.182666224606667</td></tr>\n",
       "\t<tr><th scope=row>5</th><td>vm                </td><td>outsideTurkey     </td><td>6387              </td><td>0.0962535415034059</td></tr>\n",
       "\t<tr><th scope=row>6</th><td>po                 </td><td>outsideTurkey      </td><td>661                </td><td>0.00996142021821689</td></tr>\n",
       "</tbody>\n",
       "</table>\n"
      ],
      "text/latex": [
       "\\begin{tabular}{r|llll}\n",
       "  & candidate & region & votes & votes\\_perc\\\\\n",
       "\\hline\n",
       "\t1 & tt               & outsideTurkey    & 14359            & 0.21639339321237\\\\\n",
       "\t2 & rr                & outsideTurkey     & 17801             & 0.268265115437941\\\\\n",
       "\t3 & cc              & outsideTurkey   & 15027           & 0.2264603050214\\\\\n",
       "\t4 & kk                & outsideTurkey     & 12121             & 0.182666224606667\\\\\n",
       "\t5 & vm                 & outsideTurkey      & 6387               & 0.0962535415034059\\\\\n",
       "\t6 & po                  & outsideTurkey       & 661                 & 0.00996142021821689\\\\\n",
       "\\end{tabular}\n"
      ],
      "text/plain": [
       "  candidate        region votes votes_perc\n",
       "1        tt outsideTurkey 14359 0.21639339\n",
       "2        rr outsideTurkey 17801 0.26826512\n",
       "3        cc outsideTurkey 15027 0.22646031\n",
       "4        kk outsideTurkey 12121 0.18266622\n",
       "5        vm outsideTurkey  6387 0.09625354\n",
       "6        po outsideTurkey   661 0.00996142"
      ]
     },
     "metadata": {},
     "output_type": "display_data"
    }
   ],
   "source": [
    "# Tabular representation of votes outside Bulgaria after excluding Turkey from the analysis\n",
    "aggr.woT <- turkey_effect.df[1:6,]\n",
    "\n",
    "# Number of votes cast outside Bulgaria after excluding Turkey\n",
    "num_votes.woT <- colSums(aggr.woT[3])\n",
    "paste(\"Total number of votes cast outside Bulgaria, excluding Turkey: \", num_votes.woT)\n",
    "\n",
    "# Calculate percentage results\n",
    "aggr.woT$votes_perc <- aggr.woT$votes/num_votes.woT\n",
    "aggr.woT\n"
   ]
  },
  {
   "cell_type": "code",
   "execution_count": 97,
   "metadata": {
    "collapsed": false,
    "scrolled": false
   },
   "outputs": [
    {
     "data": {
      "image/png": "[encoded data removed]",
      "text/plain": [
       "plot without title"
      ]
     },
     "metadata": {
      "image/svg+xml": {
       "isolated": true
      }
     },
     "output_type": "display_data"
    },
    {
     "data": {
      "image/png": "[encoded data removed]",
      "text/plain": [
       "plot without title"
      ]
     },
     "metadata": {
      "image/svg+xml": {
       "isolated": true
      }
     },
     "output_type": "display_data"
    }
   ],
   "source": [
    "# Bar plot - number of votes\n",
    "# Color code the bars by the colors of the nominating parties\n",
    "ggplot(aggr.woT, aes(y=votes, x=reorder(candidate, -votes), fill=candidate)) +\n",
    "   geom_bar(stat=\"identity\") + \n",
    "            scale_fill_manual(values=c('grey', 'brown', 'purple', 'red', 'blue', 'orange'))+theme_minimal() +\n",
    "            labs(title=\"Aggregate voting results outside Bulgaria, excluding Turkey\", x=\"Candidate\")\n",
    "\n",
    "ggplot(aggr.woT, aes(y=votes_perc, x=reorder(candidate, -votes_perc), fill=candidate)) +\n",
    "   geom_bar(stat=\"identity\") + \n",
    "            scale_fill_manual(values=c('grey', 'brown', 'purple', 'red', 'blue', 'orange'))+theme_minimal() +\n",
    "            labs(title=\"Aggregate voting results outside Bulgaria, excluding Turkey (%) \", x=\"Candidate\", y=\"Percentage\")\n"
   ]
  },
  {
   "cell_type": "markdown",
   "metadata": {},
   "source": [
    "How do these results compare to the results based on votes from Bulgaria? \n",
    "\n",
    "We will manually enter the domestic results (source: https://results.cik.bg/pvrnr2016/tur1/president/index.html)."
   ]
  },
  {
   "cell_type": "code",
   "execution_count": 128,
   "metadata": {
    "collapsed": false
   },
   "outputs": [
    {
     "data": {
      "text/html": [
       "<table>\n",
       "<thead><tr><th></th><th scope=col>candidate</th><th scope=col>region</th><th scope=col>votes_perc</th></tr></thead>\n",
       "<tbody>\n",
       "\t<tr><th scope=row>1</th><td>tt      </td><td>Domestic</td><td>0.0587  </td></tr>\n",
       "\t<tr><th scope=row>2</th><td>rr      </td><td>Domestic</td><td>0.2544  </td></tr>\n",
       "\t<tr><th scope=row>3</th><td>cc      </td><td>Domestic</td><td>0.2196  </td></tr>\n",
       "\t<tr><th scope=row>4</th><td>kk      </td><td>Domestic</td><td>0.1497  </td></tr>\n",
       "\t<tr><th scope=row>5</th><td>vm      </td><td>Domestic</td><td>0.1117  </td></tr>\n",
       "\t<tr><th scope=row>6</th><td>po      </td><td>Domestic</td><td>0.0663  </td></tr>\n",
       "\t<tr><th scope=row>7</th><td>tt              </td><td>Abroad          </td><td>0.21639339321237</td></tr>\n",
       "\t<tr><th scope=row>8</th><td>rr               </td><td>Abroad           </td><td>0.268265115437941</td></tr>\n",
       "\t<tr><th scope=row>9</th><td>cc             </td><td>Abroad         </td><td>0.2264603050214</td></tr>\n",
       "\t<tr><th scope=row>10</th><td>kk               </td><td>Abroad           </td><td>0.182666224606667</td></tr>\n",
       "\t<tr><th scope=row>11</th><td>vm                </td><td>Abroad            </td><td>0.0962535415034059</td></tr>\n",
       "\t<tr><th scope=row>12</th><td>po                 </td><td>Abroad             </td><td>0.00996142021821689</td></tr>\n",
       "</tbody>\n",
       "</table>\n"
      ],
      "text/latex": [
       "\\begin{tabular}{r|lll}\n",
       "  & candidate & region & votes\\_perc\\\\\n",
       "\\hline\n",
       "\t1 & tt       & Domestic & 0.0587  \\\\\n",
       "\t2 & rr       & Domestic & 0.2544  \\\\\n",
       "\t3 & cc       & Domestic & 0.2196  \\\\\n",
       "\t4 & kk       & Domestic & 0.1497  \\\\\n",
       "\t5 & vm       & Domestic & 0.1117  \\\\\n",
       "\t6 & po       & Domestic & 0.0663  \\\\\n",
       "\t7 & tt               & Abroad           & 0.21639339321237\\\\\n",
       "\t8 & rr                & Abroad            & 0.268265115437941\\\\\n",
       "\t9 & cc              & Abroad          & 0.2264603050214\\\\\n",
       "\t10 & kk                & Abroad            & 0.182666224606667\\\\\n",
       "\t11 & vm                 & Abroad             & 0.0962535415034059\\\\\n",
       "\t12 & po                  & Abroad              & 0.00996142021821689\\\\\n",
       "\\end{tabular}\n"
      ],
      "text/plain": [
       "   candidate   region votes_perc\n",
       "1         tt Domestic 0.05870000\n",
       "2         rr Domestic 0.25440000\n",
       "3         cc Domestic 0.21960000\n",
       "4         kk Domestic 0.14970000\n",
       "5         vm Domestic 0.11170000\n",
       "6         po Domestic 0.06630000\n",
       "7         tt   Abroad 0.21639339\n",
       "8         rr   Abroad 0.26826512\n",
       "9         cc   Abroad 0.22646031\n",
       "10        kk   Abroad 0.18266622\n",
       "11        vm   Abroad 0.09625354\n",
       "12        po   Abroad 0.00996142"
      ]
     },
     "metadata": {},
     "output_type": "display_data"
    }
   ],
   "source": [
    "# Results for the top 6 candidates in percentage based on total votes cast (within Bulgaria and abroad)\n",
    "candidate <- aggr.woT$candidate\n",
    "votes_perc <- c(0.0587, 0.2544, 0.2196, 0.1497, 0.1117, 0.0663)\n",
    "region <- rep(\"Domestic\", 6)\n",
    "dom_perc.df <- data.frame(candidate, region, votes_perc)\n",
    "\n",
    "aggr_all.df <- rbind(dom_perc.df, aggr.woT[ , c(1,2,4)])\n",
    "\n",
    "# For clarity in this use case, will replace \"outsideTurkey\" with \"Abroad\"\n",
    "levels(aggr_all.df$region) <- c(levels(aggr_all.df$region), \"Abroad\")\n",
    "aggr_all.df$region[aggr_all.df$region == \"outsideTurkey\"] <- \"Abroad\"\n",
    "aggr_all.df\n"
   ]
  },
  {
   "cell_type": "code",
   "execution_count": 141,
   "metadata": {
    "collapsed": false,
    "scrolled": false
   },
   "outputs": [
    {
     "name": "stderr",
     "output_type": "stream",
     "text": [
      "Saving 7 x 7 in image\n"
     ]
    },
    {
     "data": {
      "image/png": "[encoded data removed]",
      "text/plain": [
       "plot without title"
      ]
     },
     "metadata": {
      "image/svg+xml": {
       "isolated": true
      }
     },
     "output_type": "display_data"
    }
   ],
   "source": [
    "# Side-by-side bar plot of results from outside Bulgaria and results within Bulgaria. \n",
    "\n",
    "ggplot(aggr_all.df, aes(y=votes_perc, x=reorder(candidate, -votes_perc), fill=region)) +\n",
    "   geom_bar(stat=\"identity\", position=position_dodge()) +\n",
    "   scale_fill_brewer(palette=\"Greens\")+theme_minimal() +\n",
    "   labs(title=\"Composition of Bulgaria's foreign vote, within Bulgaria and outside Bulgaria \\n(excluding Turkey)\",\n",
    "       x = \"Candidate\", y=\"Percentage\")   \n",
    "\n",
    "ggsave(\"ForeignDomestic.pdf\")"
   ]
  },
  {
   "cell_type": "markdown",
   "metadata": {},
   "source": [
    "The bar plot above shows that the biggest disparity between the domestic and foreign vote is in the result of the pro-Western candidate, who did much better outside Bulgaria."
   ]
  },
  {
   "cell_type": "markdown",
   "metadata": {},
   "source": [
    "### Aggregate results by region: Western Europe\n",
    "\n",
    "Since TT is the only Pro-Western candidate, we would like to examine whether he would perform best among Bulgarian immigrants living in the US and Canada, as well as Western Europe. A potential motivation for this hypothesis is that the choice of destination country reveals the immigrant's preferences for the kind of economic and political environment they would like to live in. An alternative motivation is the possibility that an immigrant's political preferences are influenced by the local news media of the destination country. These are just examples of possible linkages and there can certainly be a lot more nuance in the processes that lead to this hypothesis. \n",
    "\n",
    "Let's look at Western Europe first. We introduce an admittedly ad hoc definition of Western Europe - we exclude former Communist countries, except Slovenia, Slovakia and Poland. The motivation for this definition of \"Western Europe\" was to capture only countries that are associated with the traditional understanding of liberal democracies. One can also check that the result does not change significantly regardless of whether Slovenia, Slovakia or Poland are included. "
   ]
  },
  {
   "cell_type": "code",
   "execution_count": 74,
   "metadata": {
    "collapsed": false,
    "scrolled": false
   },
   "outputs": [
    {
     "data": {
      "text/html": [
       "\"Total number of votes cast in Western Europe: 50860\""
      ],
      "text/latex": [
       "\"Total number of votes cast in Western Europe: 50860\""
      ],
      "text/markdown": [
       "\"Total number of votes cast in Western Europe: 50860\""
      ],
      "text/plain": [
       "[1] \"Total number of votes cast in Western Europe: 50860\""
      ]
     },
     "metadata": {},
     "output_type": "display_data"
    },
    {
     "data": {
      "text/html": [
       "\"Share of votes cast in Western Europe over all votes outside Bulgaria and Turkey:  76.6%\""
      ],
      "text/latex": [
       "\"Share of votes cast in Western Europe over all votes outside Bulgaria and Turkey:  76.6\\%\""
      ],
      "text/markdown": [
       "\"Share of votes cast in Western Europe over all votes outside Bulgaria and Turkey:  76.6%\""
      ],
      "text/plain": [
       "[1] \"Share of votes cast in Western Europe over all votes outside Bulgaria and Turkey:  76.6%\""
      ]
     },
     "metadata": {},
     "output_type": "display_data"
    },
    {
     "data": {
      "text/html": [
       "<table>\n",
       "<thead><tr><th></th><th scope=col>votes</th><th scope=col>candidate</th><th scope=col>votes_perc</th></tr></thead>\n",
       "<tbody>\n",
       "\t<tr><th scope=row>tt</th><td>10939            </td><td>tt               </td><td>0.215080613448683</td></tr>\n",
       "\t<tr><th scope=row>rr</th><td>13231            </td><td>rr               </td><td>0.260145497443964</td></tr>\n",
       "\t<tr><th scope=row>cc</th><td>11272            </td><td>cc               </td><td>0.221627998427055</td></tr>\n",
       "\t<tr><th scope=row>kk</th><td>9403             </td><td>kk               </td><td>0.184880062917814</td></tr>\n",
       "\t<tr><th scope=row>vm</th><td>5440             </td><td>vm               </td><td>0.106960283130161</td></tr>\n",
       "\t<tr><th scope=row>po</th><td>575              </td><td>po               </td><td>0.011305544632324</td></tr>\n",
       "</tbody>\n",
       "</table>\n"
      ],
      "text/latex": [
       "\\begin{tabular}{r|lll}\n",
       "  & votes & candidate & votes\\_perc\\\\\n",
       "\\hline\n",
       "\ttt & 10939             & tt                & 0.215080613448683\\\\\n",
       "\trr & 13231             & rr                & 0.260145497443964\\\\\n",
       "\tcc & 11272             & cc                & 0.221627998427055\\\\\n",
       "\tkk & 9403              & kk                & 0.184880062917814\\\\\n",
       "\tvm & 5440              & vm                & 0.106960283130161\\\\\n",
       "\tpo & 575               & po                & 0.011305544632324\\\\\n",
       "\\end{tabular}\n"
      ],
      "text/plain": [
       "   votes candidate votes_perc\n",
       "tt 10939        tt 0.21508061\n",
       "rr 13231        rr 0.26014550\n",
       "cc 11272        cc 0.22162800\n",
       "kk  9403        kk 0.18488006\n",
       "vm  5440        vm 0.10696028\n",
       "po   575        po 0.01130554"
      ]
     },
     "metadata": {},
     "output_type": "display_data"
    },
    {
     "data": {
      "image/png": "[encoded data removed]",
      "text/plain": [
       "plot without title"
      ]
     },
     "metadata": {
      "image/svg+xml": {
       "isolated": true
      }
     },
     "output_type": "display_data"
    },
    {
     "data": {
      "image/png": "[encoded data removed]",
      "text/plain": [
       "plot without title"
      ]
     },
     "metadata": {
      "image/svg+xml": {
       "isolated": true
      }
     },
     "output_type": "display_data"
    }
   ],
   "source": [
    "# Limit the results to Europe\n",
    "EU <- c('Austria','Belgium','UK','Greece','Denmark','Ireland','Spain','Italy','Lithuania','Luxemburg','Malta')\n",
    "EU <- c(EU,'Netherlands','Norway','Poland','Portugal','Slovakia','Slovenia','Hungary','Finland','Germany','France')\n",
    "EU <- c(EU, 'Switzerland', 'Sweden')\n",
    "\n",
    "EU.result <- as.data.frame(colSums(ballots.df[which(ballots.df$country %in% EU), 7:12]))\n",
    "EU.result$Candidate <- rownames(EU.result)\n",
    "colnames(EU.result) <- c(\"votes\", \"candidate\")\n",
    "\n",
    "# Number of votes cast in Western Europe\n",
    "num_votes.EU <- colSums(EU.result[1])\n",
    "paste0(\"Total number of votes cast in Western Europe: \", num_votes.EU)\n",
    "\n",
    "# Percent of votes cast in Western Europe over all votes outside Bulgaria and Turkey\n",
    "perc_EU.woT <- sprintf(\"%.1f%%\", (num_votes.EU/num_votes.woT)*100)\n",
    "paste(\"Share of votes cast in Western Europe over all votes outside Bulgaria and Turkey: \", perc_EU.woT)\n",
    "\n",
    "# Calculate percentage results\n",
    "EU.result$votes_perc <- EU.result$votes/num_votes.EU\n",
    "EU.result\n",
    "\n",
    "# Bar plot - number of votes\n",
    "ggplot(EU.result, aes(y=votes, x=reorder(candidate, -votes), fill=candidate)) +\n",
    "   geom_bar(stat=\"identity\") + \n",
    "   scale_fill_manual(values=c('grey', 'brown', 'purple', 'red', 'blue', 'orange'))+theme_minimal() +\n",
    "   labs(title=\"Aggregate voting results in Western Europe\", x=\"Candidate\")\n",
    "\n",
    "# Bar plot - percentage of votes within Western Europe\n",
    "ggplot(EU.result, aes(y=votes_perc, x=reorder(candidate, -votes_perc), fill=candidate)) +\n",
    "   geom_bar(stat=\"identity\") + \n",
    "   scale_fill_manual(values=c('grey', 'brown', 'purple', 'red', 'blue', 'orange'))+theme_minimal() +\n",
    "   labs(title=\"Aggregate voting results in Western Europe (%)\", x=\"Candidate\", y=\"Percent of votes\")"
   ]
  },
  {
   "cell_type": "markdown",
   "metadata": {},
   "source": [
    "As we can see, the majority of the votes cast outside Bulgaria and Turkey were cast in Western Europe and unsurprisingly the pattern of the results from Western Europe dominate the aggregate pattern of results. \n",
    "\n",
    "Next, we will see if this pattern persists among North America votes."
   ]
  },
  {
   "cell_type": "markdown",
   "metadata": {},
   "source": [
    "### Aggregate results by region: North America\n",
    "\n",
    "We define North America as US and Canada. "
   ]
  },
  {
   "cell_type": "code",
   "execution_count": 77,
   "metadata": {
    "collapsed": false
   },
   "outputs": [
    {
     "data": {
      "text/html": [
       "\"Total number of votes cast in North America: 8267\""
      ],
      "text/latex": [
       "\"Total number of votes cast in North America: 8267\""
      ],
      "text/markdown": [
       "\"Total number of votes cast in North America: 8267\""
      ],
      "text/plain": [
       "[1] \"Total number of votes cast in North America: 8267\""
      ]
     },
     "metadata": {},
     "output_type": "display_data"
    },
    {
     "data": {
      "text/html": [
       "\"Share of votes cast in North America over all votes outside Bulgaria and Turkey:  12.5%\""
      ],
      "text/latex": [
       "\"Share of votes cast in North America over all votes outside Bulgaria and Turkey:  12.5\\%\""
      ],
      "text/markdown": [
       "\"Share of votes cast in North America over all votes outside Bulgaria and Turkey:  12.5%\""
      ],
      "text/plain": [
       "[1] \"Share of votes cast in North America over all votes outside Bulgaria and Turkey:  12.5%\""
      ]
     },
     "metadata": {},
     "output_type": "display_data"
    },
    {
     "data": {
      "text/html": [
       "<table>\n",
       "<thead><tr><th></th><th scope=col>votes</th><th scope=col>candidate</th><th scope=col>votes_perc</th></tr></thead>\n",
       "<tbody>\n",
       "\t<tr><th scope=row>tt</th><td>2226           </td><td>tt             </td><td>0.2692633361558</td></tr>\n",
       "\t<tr><th scope=row>rr</th><td>2620             </td><td>rr               </td><td>0.316922704729648</td></tr>\n",
       "\t<tr><th scope=row>cc</th><td>1847             </td><td>cc               </td><td>0.223418410547962</td></tr>\n",
       "\t<tr><th scope=row>kk</th><td>1132             </td><td>kk               </td><td>0.136929962501512</td></tr>\n",
       "\t<tr><th scope=row>vm</th><td>409               </td><td>vm                </td><td>0.0494738115398573</td></tr>\n",
       "\t<tr><th scope=row>po</th><td>33                 </td><td>po                 </td><td>0.00399177452522076</td></tr>\n",
       "</tbody>\n",
       "</table>\n"
      ],
      "text/latex": [
       "\\begin{tabular}{r|lll}\n",
       "  & votes & candidate & votes\\_perc\\\\\n",
       "\\hline\n",
       "\ttt & 2226            & tt              & 0.2692633361558\\\\\n",
       "\trr & 2620              & rr                & 0.316922704729648\\\\\n",
       "\tcc & 1847              & cc                & 0.223418410547962\\\\\n",
       "\tkk & 1132              & kk                & 0.136929962501512\\\\\n",
       "\tvm & 409                & vm                 & 0.0494738115398573\\\\\n",
       "\tpo & 33                  & po                  & 0.00399177452522076\\\\\n",
       "\\end{tabular}\n"
      ],
      "text/plain": [
       "   votes candidate  votes_perc\n",
       "tt  2226        tt 0.269263336\n",
       "rr  2620        rr 0.316922705\n",
       "cc  1847        cc 0.223418411\n",
       "kk  1132        kk 0.136929963\n",
       "vm   409        vm 0.049473812\n",
       "po    33        po 0.003991775"
      ]
     },
     "metadata": {},
     "output_type": "display_data"
    },
    {
     "data": {
      "image/png": "[encoded data removed]",
      "text/plain": [
       "plot without title"
      ]
     },
     "metadata": {
      "image/svg+xml": {
       "isolated": true
      }
     },
     "output_type": "display_data"
    },
    {
     "data": {
      "image/png": "[encoded data removed]",
      "text/plain": [
       "plot without title"
      ]
     },
     "metadata": {
      "image/svg+xml": {
       "isolated": true
      }
     },
     "output_type": "display_data"
    }
   ],
   "source": [
    "NoAm <- c(\"US\", \"Canada\")\n",
    "\n",
    "NAM.result <- as.data.frame(colSums(ballots.df[which(ballots.df$country %in% NoAm), 7:12]))\n",
    "NAM.result$Candidate <- rownames(NAM.result)\n",
    "colnames(NAM.result) <- c(\"votes\", \"candidate\")\n",
    "\n",
    "# Number of votes cast in Western Europe\n",
    "num_votes.NAM <- colSums(NAM.result[1])\n",
    "paste0(\"Total number of votes cast in North America: \", num_votes.NAM)\n",
    "\n",
    "# Percent of votes cast in Western Europe over all votes outside Bulgaria and Turkey\n",
    "perc_NAM.woT <- sprintf(\"%.1f%%\", (num_votes.NAM/num_votes.woT)*100)\n",
    "paste(\"Share of votes cast in North America over all votes outside Bulgaria and Turkey: \", perc_NAM.woT)\n",
    "\n",
    "# Calculate percentage results\n",
    "NAM.result$votes_perc <- NAM.result$votes/num_votes.NAM\n",
    "NAM.result\n",
    "\n",
    "# Bar plot of the number of ballots\n",
    "ggplot(NAM.result, aes(y=votes, x=reorder(candidate, -votes), fill=candidate)) +\n",
    "   geom_bar(stat=\"identity\") + \n",
    "   scale_fill_manual(values=c('grey', 'brown', 'purple', 'red', 'blue', 'orange'))+theme_minimal() +\n",
    "   labs(title=\"Aggregate voting results in North America\", x=\"Candidate\")\n",
    "\n",
    "# Bar plot - percentage of votes within North America\n",
    "ggplot(NAM.result, aes(y=votes_perc, x=reorder(candidate, -votes_perc), fill=candidate)) +\n",
    "   geom_bar(stat=\"identity\") + \n",
    "   scale_fill_manual(values=c('grey', 'brown', 'purple', 'red', 'blue', 'orange'))+theme_minimal() +\n",
    "   labs(title=\"Aggregate voting results in North America (%)\", x=\"Candidate\", y=\"Percentage\")\n"
   ]
  },
  {
   "cell_type": "markdown",
   "metadata": {},
   "source": [
    "The voting pattern in North America differs from that in Western Europe in two major ways:\n",
    "\n",
    "1) The Pro-Western candidate (TT) ranks 2nd with a non-trivial lead over the status quo candidate (CC), who ranks 3rd.\n",
    "\n",
    "2) The nationalist candidate (KK) and the independent candidate (VM) are doing much worse.\n",
    "\n",
    "Next, we will dig down at the voting section level."
   ]
  },
  {
   "cell_type": "markdown",
   "metadata": {
    "collapsed": false
   },
   "source": [
    "### Histogram of candidates' performance based on rank\n",
    "\n",
    "We will now focus on the three main candidates - RR, CC, and TT. We will create a histogram showing in how many sections each ranked as number 1, number 2, etc. Then, we will zero in on the sections where the pro-Western candidate, TT, ranked first. "
   ]
  },
  {
   "cell_type": "code",
   "execution_count": 143,
   "metadata": {
    "collapsed": false
   },
   "outputs": [
    {
     "data": {
      "text/html": [
       "<ol class=list-inline>\n",
       "\t<li>325</li>\n",
       "\t<li>27</li>\n",
       "</ol>\n"
      ],
      "text/latex": [
       "\\begin{enumerate*}\n",
       "\\item 325\n",
       "\\item 27\n",
       "\\end{enumerate*}\n"
      ],
      "text/markdown": [
       "1. 325\n",
       "2. 27\n",
       "\n",
       "\n"
      ],
      "text/plain": [
       "[1] 325  27"
      ]
     },
     "metadata": {},
     "output_type": "display_data"
    },
    {
     "name": "stdout",
     "output_type": "stream",
     "text": [
      "'data.frame':\t325 obs. of  27 variables:\n",
      " $ X           : int  1 2 3 4 5 6 7 8 9 10 ...\n",
      " $ section.id  : int  320100003 320100001 320100004 320100005 320100002 320200012 320200006 320200007 320200013 320200302 ...\n",
      " $ country     : chr  \"Australia\" \"Australia\" \"Australia\" \"Australia\" ...\n",
      " $ city        : chr  \"Brisbane\" \"Canberra\" \"Melbourne\" \"Perth\" ...\n",
      " $ valid       : int  45 40 115 81 148 122 608 761 558 505 ...\n",
      " $ protest     : int  2 1 3 9 8 13 32 61 35 30 ...\n",
      " $ tt          : int  14 3 45 30 60 23 149 243 177 154 ...\n",
      " $ rr          : int  13 17 13 11 22 19 100 141 112 89 ...\n",
      " $ cc          : int  4 11 24 11 16 24 112 107 75 77 ...\n",
      " $ kk          : int  7 0 22 7 10 14 71 82 66 72 ...\n",
      " $ vm          : int  4 1 1 2 8 19 51 43 28 28 ...\n",
      " $ po          : int  0 0 0 0 1 0 20 11 4 7 ...\n",
      " $ valid.net   : int  43 39 112 72 140 109 576 700 523 475 ...\n",
      " $ tt.perc     : num  0.3256 0.0769 0.4018 0.4167 0.4286 ...\n",
      " $ rr.perc     : num  0.302 0.436 0.116 0.153 0.157 ...\n",
      " $ cc.perc     : num  0.093 0.282 0.214 0.153 0.114 ...\n",
      " $ kk.perc     : num  0.1628 0 0.1964 0.0972 0.0714 ...\n",
      " $ vm.perc     : num  0.09302 0.02564 0.00893 0.02778 0.05714 ...\n",
      " $ po.perc     : num  0 0 0 0 0.00714 ...\n",
      " $ top6.ballots: int  42 32 105 61 117 99 503 627 462 427 ...\n",
      " $ top6.perc   : num  0.933 0.8 0.913 0.753 0.791 ...\n",
      " $ tt.rank     : int  1 3 1 1 1 2 1 1 1 1 ...\n",
      " $ rr.rank     : int  2 1 4 2 2 3 3 2 2 2 ...\n",
      " $ cc.rank     : int  4 2 2 2 3 1 2 3 3 3 ...\n",
      " $ kk.rank     : int  3 5 3 4 4 5 4 4 4 4 ...\n",
      " $ vm.rank     : int  4 4 5 5 5 3 5 5 5 5 ...\n",
      " $ po.rank     : int  6 5 6 6 6 6 6 6 6 6 ...\n"
     ]
    }
   ],
   "source": [
    "# We have already calculated rank by section in Part II\n",
    "dim(ballots.df)\n",
    "str(ballots.df)"
   ]
  },
  {
   "cell_type": "code",
   "execution_count": 195,
   "metadata": {
    "collapsed": false
   },
   "outputs": [
    {
     "data": {
      "text/html": [
       "<table>\n",
       "<thead><tr><th></th><th scope=col>section.id</th><th scope=col>country</th><th scope=col>city</th><th scope=col>tt.rank</th><th scope=col>rr.rank</th><th scope=col>cc.rank</th></tr></thead>\n",
       "<tbody>\n",
       "\t<tr><th scope=row>1</th><td>320100003</td><td>Australia</td><td>Brisbane </td><td>1        </td><td>2        </td><td>4        </td></tr>\n",
       "\t<tr><th scope=row>2</th><td>320100001</td><td>Australia</td><td>Canberra </td><td>3        </td><td>1        </td><td>2        </td></tr>\n",
       "\t<tr><th scope=row>3</th><td>320100004</td><td>Australia</td><td>Melbourne</td><td>1        </td><td>4        </td><td>2        </td></tr>\n",
       "\t<tr><th scope=row>4</th><td>320100005</td><td>Australia</td><td>Perth    </td><td>1        </td><td>2        </td><td>2        </td></tr>\n",
       "\t<tr><th scope=row>5</th><td>320100002</td><td>Australia</td><td>Sidney   </td><td>1        </td><td>2        </td><td>3        </td></tr>\n",
       "\t<tr><th scope=row>6</th><td>320200012</td><td>Austria  </td><td>Bregenz  </td><td>2        </td><td>3        </td><td>1        </td></tr>\n",
       "</tbody>\n",
       "</table>\n"
      ],
      "text/latex": [
       "\\begin{tabular}{r|llllll}\n",
       "  & section.id & country & city & tt.rank & rr.rank & cc.rank\\\\\n",
       "\\hline\n",
       "\t1 & 320100003 & Australia & Brisbane  & 1         & 2         & 4        \\\\\n",
       "\t2 & 320100001 & Australia & Canberra  & 3         & 1         & 2        \\\\\n",
       "\t3 & 320100004 & Australia & Melbourne & 1         & 4         & 2        \\\\\n",
       "\t4 & 320100005 & Australia & Perth     & 1         & 2         & 2        \\\\\n",
       "\t5 & 320100002 & Australia & Sidney    & 1         & 2         & 3        \\\\\n",
       "\t6 & 320200012 & Austria   & Bregenz   & 2         & 3         & 1        \\\\\n",
       "\\end{tabular}\n"
      ],
      "text/plain": [
       "  section.id   country      city tt.rank rr.rank cc.rank\n",
       "1  320100003 Australia  Brisbane       1       2       4\n",
       "2  320100001 Australia  Canberra       3       1       2\n",
       "3  320100004 Australia Melbourne       1       4       2\n",
       "4  320100005 Australia     Perth       1       2       2\n",
       "5  320100002 Australia    Sidney       1       2       3\n",
       "6  320200012   Austria   Bregenz       2       3       1"
      ]
     },
     "metadata": {},
     "output_type": "display_data"
    },
    {
     "data": {
      "text/html": [
       "<ol class=list-inline>\n",
       "\t<li>290</li>\n",
       "\t<li>6</li>\n",
       "</ol>\n"
      ],
      "text/latex": [
       "\\begin{enumerate*}\n",
       "\\item 290\n",
       "\\item 6\n",
       "\\end{enumerate*}\n"
      ],
      "text/markdown": [
       "1. 290\n",
       "2. 6\n",
       "\n",
       "\n"
      ],
      "text/plain": [
       "[1] 290   6"
      ]
     },
     "metadata": {},
     "output_type": "display_data"
    },
    {
     "data": {
      "text/html": [
       "<table>\n",
       "<thead><tr><th></th><th scope=col>section.id</th><th scope=col>country</th><th scope=col>city</th><th scope=col>candidate</th><th scope=col>rank</th></tr></thead>\n",
       "<tbody>\n",
       "\t<tr><th scope=row>1</th><td>320100003</td><td>Australia</td><td>Brisbane </td><td>tt.rank  </td><td>1        </td></tr>\n",
       "\t<tr><th scope=row>2</th><td>320100001</td><td>Australia</td><td>Canberra </td><td>tt.rank  </td><td>3        </td></tr>\n",
       "\t<tr><th scope=row>3</th><td>320100004</td><td>Australia</td><td>Melbourne</td><td>tt.rank  </td><td>1        </td></tr>\n",
       "\t<tr><th scope=row>4</th><td>320100005</td><td>Australia</td><td>Perth    </td><td>tt.rank  </td><td>1        </td></tr>\n",
       "\t<tr><th scope=row>5</th><td>320100002</td><td>Australia</td><td>Sidney   </td><td>tt.rank  </td><td>1        </td></tr>\n",
       "\t<tr><th scope=row>6</th><td>320200012</td><td>Austria  </td><td>Bregenz  </td><td>tt.rank  </td><td>2        </td></tr>\n",
       "</tbody>\n",
       "</table>\n"
      ],
      "text/latex": [
       "\\begin{tabular}{r|lllll}\n",
       "  & section.id & country & city & candidate & rank\\\\\n",
       "\\hline\n",
       "\t1 & 320100003 & Australia & Brisbane  & tt.rank   & 1        \\\\\n",
       "\t2 & 320100001 & Australia & Canberra  & tt.rank   & 3        \\\\\n",
       "\t3 & 320100004 & Australia & Melbourne & tt.rank   & 1        \\\\\n",
       "\t4 & 320100005 & Australia & Perth     & tt.rank   & 1        \\\\\n",
       "\t5 & 320100002 & Australia & Sidney    & tt.rank   & 1        \\\\\n",
       "\t6 & 320200012 & Austria   & Bregenz   & tt.rank   & 2        \\\\\n",
       "\\end{tabular}\n"
      ],
      "text/plain": [
       "  section.id   country      city candidate rank\n",
       "1  320100003 Australia  Brisbane   tt.rank    1\n",
       "2  320100001 Australia  Canberra   tt.rank    3\n",
       "3  320100004 Australia Melbourne   tt.rank    1\n",
       "4  320100005 Australia     Perth   tt.rank    1\n",
       "5  320100002 Australia    Sidney   tt.rank    1\n",
       "6  320200012   Austria   Bregenz   tt.rank    2"
      ]
     },
     "metadata": {},
     "output_type": "display_data"
    }
   ],
   "source": [
    "# Again, we will exclude sections in Turkey\n",
    "rank.df <- ballots.df[which(ballots.df$country!=\"Turkey\"), c(2:4, 22:24)]\n",
    "head(rank.df)\n",
    "dim(rank.df)\n",
    "rank.df <- melt(rank.df, id.vars=c(\"section.id\", \"country\", \"city\"), variable.name=\"candidate\", value.name=\"rank\")\n",
    "head(rank.df)"
   ]
  },
  {
   "cell_type": "code",
   "execution_count": 196,
   "metadata": {
    "collapsed": false
   },
   "outputs": [
    {
     "name": "stderr",
     "output_type": "stream",
     "text": [
      "Warning message:\n",
      ": Ignoring unknown parameters: binwidth, bins, pad"
     ]
    },
    {
     "data": {
      "image/png": "[encoded data removed]",
      "text/plain": [
       "plot without title"
      ]
     },
     "metadata": {
      "image/svg+xml": {
       "isolated": true
      }
     },
     "output_type": "display_data"
    }
   ],
   "source": [
    "ggplot(rank.df[which(rank.df$candidate==\"tt.rank\"),], aes(x=rank))+ geom_histogram(stat=\"count\") +\n",
    "   theme_minimal() + labs(title=\"Histogram of rankings - TT\", y=\"Number of sections\")"
   ]
  },
  {
   "cell_type": "code",
   "execution_count": 197,
   "metadata": {
    "collapsed": false
   },
   "outputs": [
    {
     "name": "stderr",
     "output_type": "stream",
     "text": [
      "Warning message:\n",
      ": Ignoring unknown parameters: binwidth, bins, pad"
     ]
    },
    {
     "data": {
      "image/png": "[encoded data removed]",
      "text/plain": [
       "plot without title"
      ]
     },
     "metadata": {
      "image/svg+xml": {
       "isolated": true
      }
     },
     "output_type": "display_data"
    }
   ],
   "source": [
    "ggplot(rank.df[which(rank.df$candidate==\"rr.rank\"),], aes(x=rank))+ geom_histogram(stat=\"count\") +\n",
    "   theme_minimal() + labs(title=\"Histogram of rankings - RR\", y=\"Number of sections\")"
   ]
  },
  {
   "cell_type": "code",
   "execution_count": 198,
   "metadata": {
    "collapsed": false
   },
   "outputs": [
    {
     "name": "stderr",
     "output_type": "stream",
     "text": [
      "Warning message:\n",
      ": Ignoring unknown parameters: binwidth, bins, pad"
     ]
    },
    {
     "data": {
      "image/png": "[encoded data removed]",
      "text/plain": [
       "plot without title"
      ]
     },
     "metadata": {
      "image/svg+xml": {
       "isolated": true
      }
     },
     "output_type": "display_data"
    }
   ],
   "source": [
    "ggplot(rank.df[which(rank.df$candidate==\"cc.rank\"),], aes(x=rank))+ geom_histogram(stat=\"count\") +\n",
    "   theme_minimal() + labs(title=\"Histogram of rankings - CC\", y=\"Number of sections\")"
   ]
  },
  {
   "cell_type": "markdown",
   "metadata": {},
   "source": [
    "Looking at the histograms above, we see that:\n",
    "\n",
    "1) TT collected the highest number of votes in close to 100 of the 325 sections abroad. However, given his overall 3rd place, we would expect that he ranked 1st in smaller sections. Also, his second most frequent ranking was 5, which would indicate that he was either a polarizing candiate or that he was not well known in certain communities. \n",
    "\n",
    "2) RR ranked 1st or 2nd in over 200 of the sections. This observation is consistent with his overall result as the candidate with the highest number of votes. \n",
    "\n",
    "3) CC was most likely to be ranked 3rd. Recall that we limited the data to exclude Turkey. If results from Turkey were included, CC would have a much higher number of sections where she would rank 1st. "
   ]
  },
  {
   "cell_type": "markdown",
   "metadata": {},
   "source": [
    "### Where TT did best"
   ]
  },
  {
   "cell_type": "markdown",
   "metadata": {},
   "source": [
    "We will now drill down and see in which sections TT did best. "
   ]
  },
  {
   "cell_type": "code",
   "execution_count": 218,
   "metadata": {
    "collapsed": false
   },
   "outputs": [
    {
     "data": {
      "text/html": [
       "<table>\n",
       "<thead><tr><th></th><th scope=col>country</th><th scope=col>city</th><th scope=col>tt.perc</th><th scope=col>tt.rank</th><th scope=col>num_valid_votes</th></tr></thead>\n",
       "<tbody>\n",
       "\t<tr><th scope=row>196</th><td>Korea            </td><td>Seul             </td><td>0.617647058823529</td><td>1                </td><td>35               </td></tr>\n",
       "\t<tr><th scope=row>241</th><td>Singapore        </td><td>Sinapore         </td><td>0.584415584415584</td><td>1                </td><td>79               </td></tr>\n",
       "\t<tr><th scope=row>325</th><td>Japan            </td><td>Tokyo            </td><td>0.507246376811594</td><td>1                </td><td>74               </td></tr>\n",
       "\t<tr><th scope=row>230</th><td>US               </td><td>San Francisco    </td><td>0.477941176470588</td><td>1                </td><td>143              </td></tr>\n",
       "\t<tr><th scope=row>82</th><td>Vietnam          </td><td>Hanoi            </td><td>0.461538461538462</td><td>1                </td><td>14               </td></tr>\n",
       "\t<tr><th scope=row>5</th><td>Australia        </td><td>Sidney           </td><td>0.428571428571429</td><td>1                </td><td>148              </td></tr>\n",
       "\t<tr><th scope=row>221</th><td>US               </td><td>New York         </td><td>0.428571428571429</td><td>1                </td><td>159              </td></tr>\n",
       "\t<tr><th scope=row>319</th><td>Switzerland      </td><td>Lausanne         </td><td>0.426086956521739</td><td>1                </td><td>125              </td></tr>\n",
       "\t<tr><th scope=row>4</th><td>Australia        </td><td>Perth            </td><td>0.416666666666667</td><td>1                </td><td>81               </td></tr>\n",
       "\t<tr><th scope=row>218</th><td>US               </td><td>Los Angeles      </td><td>0.411167512690355</td><td>1                </td><td>209              </td></tr>\n",
       "\t<tr><th scope=row>178</th><td>Netherlands      </td><td>Amsterdam        </td><td>0.405156537753223</td><td>1                </td><td>580              </td></tr>\n",
       "\t<tr><th scope=row>321</th><td>Switzerland      </td><td>Zurich           </td><td>0.403960396039604</td><td>1                </td><td>543              </td></tr>\n",
       "\t<tr><th scope=row>3</th><td>Australia        </td><td>Melbourne        </td><td>0.401785714285714</td><td>1                </td><td>115              </td></tr>\n",
       "\t<tr><th scope=row>170</th><td>Luxemburg</td><td>Luxemburg</td><td>0.388    </td><td>1        </td><td>538      </td></tr>\n",
       "\t<tr><th scope=row>182</th><td>Netherlands      </td><td>Rotterdam        </td><td>0.384279475982533</td><td>1                </td><td>253              </td></tr>\n",
       "\t<tr><th scope=row>181</th><td>Netherlands      </td><td>Maastricht       </td><td>0.378205128205128</td><td>1                </td><td>339              </td></tr>\n",
       "\t<tr><th scope=row>179</th><td>Netherlands      </td><td>Gronningen       </td><td>0.377906976744186</td><td>1                </td><td>178              </td></tr>\n",
       "\t<tr><th scope=row>316</th><td>Switzerland     </td><td>Basel           </td><td>0.37696335078534</td><td>1               </td><td>206             </td></tr>\n",
       "\t<tr><th scope=row>234</th><td>US               </td><td>Sunnyvale        </td><td>0.373271889400922</td><td>1                </td><td>230              </td></tr>\n",
       "\t<tr><th scope=row>39</th><td>UK               </td><td>Edinbourough     </td><td>0.370503597122302</td><td>1                </td><td>305              </td></tr>\n",
       "\t<tr><th scope=row>312</th><td>Croatia          </td><td>Zagreb           </td><td>0.361111111111111</td><td>1                </td><td>39               </td></tr>\n",
       "\t<tr><th scope=row>36</th><td>UK               </td><td>Glasgow          </td><td>0.359897172236504</td><td>1                </td><td>441              </td></tr>\n",
       "\t<tr><th scope=row>229</th><td>US               </td><td>San Diego        </td><td>0.359712230215827</td><td>1                </td><td>146              </td></tr>\n",
       "\t<tr><th scope=row>295</th><td>Germany          </td><td>Munich           </td><td>0.358306188925081</td><td>1                </td><td>643              </td></tr>\n",
       "\t<tr><th scope=row>49</th><td>UK               </td><td>London           </td><td>0.355263157894737</td><td>1                </td><td>724              </td></tr>\n",
       "\t<tr><th scope=row>239</th><td>US               </td><td>Chicago          </td><td>0.354609929078014</td><td>1                </td><td>143              </td></tr>\n",
       "\t<tr><th scope=row>207</th><td>US               </td><td>Boston           </td><td>0.350877192982456</td><td>1                </td><td>477              </td></tr>\n",
       "\t<tr><th scope=row>8</th><td>Austria          </td><td>Vienna           </td><td>0.347142857142857</td><td>1                </td><td>761              </td></tr>\n",
       "\t<tr><th scope=row>57</th><td>UK               </td><td>London           </td><td>0.345814977973568</td><td>1                </td><td>484              </td></tr>\n",
       "\t<tr><th scope=row>228</th><td>US               </td><td>San Antonio      </td><td>0.342105263157895</td><td>1                </td><td>79               </td></tr>\n",
       "\t<tr><th scope=row>56</th><td>UK               </td><td>London           </td><td>0.340659340659341</td><td>1                </td><td>385              </td></tr>\n",
       "\t<tr><th scope=row>9</th><td>Austria          </td><td>Vienna           </td><td>0.338432122370937</td><td>1                </td><td>558              </td></tr>\n",
       "\t<tr><th scope=row>225</th><td>US               </td><td>Pittsburg        </td><td>0.338235294117647</td><td>1                </td><td>73               </td></tr>\n",
       "\t<tr><th scope=row>23</th><td>Belgium          </td><td>Brussels         </td><td>0.337179487179487</td><td>1                </td><td>821              </td></tr>\n",
       "\t<tr><th scope=row>318</th><td>Switzerland      </td><td>Geneva           </td><td>0.335504885993485</td><td>1                </td><td>322              </td></tr>\n",
       "\t<tr><th scope=row>183</th><td>Netherlands      </td><td>Utrecht          </td><td>0.335294117647059</td><td>1                </td><td>182              </td></tr>\n",
       "\t<tr><th scope=row>28</th><td>Brazil           </td><td>Sao Paolo        </td><td>0.333333333333333</td><td>1                </td><td>37               </td></tr>\n",
       "\t<tr><th scope=row>177</th><td>Netherlands      </td><td>Eindhoven        </td><td>0.333333333333333</td><td>1                </td><td>201              </td></tr>\n",
       "\t<tr><th scope=row>240</th><td>US              </td><td>Irvine          </td><td>0.33112582781457</td><td>1               </td><td>155             </td></tr>\n",
       "\t<tr><th scope=row>222</th><td>US               </td><td>New York         </td><td>0.330188679245283</td><td>1                </td><td>328              </td></tr>\n",
       "\t<tr><th scope=row>48</th><td>UK               </td><td>London           </td><td>0.328054298642534</td><td>1                </td><td>480              </td></tr>\n",
       "\t<tr><th scope=row>290</th><td>Germany          </td><td>Berlin           </td><td>0.327777777777778</td><td>1                </td><td>763              </td></tr>\n",
       "\t<tr><th scope=row>238</th><td>US               </td><td>Houston          </td><td>0.326388888888889</td><td>1                </td><td>145              </td></tr>\n",
       "\t<tr><th scope=row>291</th><td>Germany          </td><td>Berlin           </td><td>0.326259946949602</td><td>1                </td><td>815              </td></tr>\n",
       "\t<tr><th scope=row>1</th><td>Australia        </td><td>Brisbane         </td><td>0.325581395348837</td><td>1                </td><td>45               </td></tr>\n",
       "\t<tr><th scope=row>167</th><td>Kuwait          </td><td>Kuwait          </td><td>0.32484076433121</td><td>1               </td><td>170             </td></tr>\n",
       "\t<tr><th scope=row>10</th><td>Austria          </td><td>Vienna           </td><td>0.324210526315789</td><td>1                </td><td>505              </td></tr>\n",
       "\t<tr><th scope=row>208</th><td>US               </td><td>DC               </td><td>0.316810344827586</td><td>1                </td><td>480              </td></tr>\n",
       "\t<tr><th scope=row>67</th><td>UK               </td><td>Oxford           </td><td>0.316602316602317</td><td>1                </td><td>295              </td></tr>\n",
       "\t<tr><th scope=row>25</th><td>Belgium          </td><td>Leuven           </td><td>0.316498316498317</td><td>1                </td><td>323              </td></tr>\n",
       "</tbody>\n",
       "</table>\n"
      ],
      "text/latex": [
       "\\begin{tabular}{r|lllll}\n",
       "  & country & city & tt.perc & tt.rank & num\\_valid\\_votes\\\\\n",
       "\\hline\n",
       "\t196 & Korea             & Seul              & 0.617647058823529 & 1                 & 35               \\\\\n",
       "\t241 & Singapore         & Sinapore          & 0.584415584415584 & 1                 & 79               \\\\\n",
       "\t325 & Japan             & Tokyo             & 0.507246376811594 & 1                 & 74               \\\\\n",
       "\t230 & US                & San Francisco     & 0.477941176470588 & 1                 & 143              \\\\\n",
       "\t82 & Vietnam           & Hanoi             & 0.461538461538462 & 1                 & 14               \\\\\n",
       "\t5 & Australia         & Sidney            & 0.428571428571429 & 1                 & 148              \\\\\n",
       "\t221 & US                & New York          & 0.428571428571429 & 1                 & 159              \\\\\n",
       "\t319 & Switzerland       & Lausanne          & 0.426086956521739 & 1                 & 125              \\\\\n",
       "\t4 & Australia         & Perth             & 0.416666666666667 & 1                 & 81               \\\\\n",
       "\t218 & US                & Los Angeles       & 0.411167512690355 & 1                 & 209              \\\\\n",
       "\t178 & Netherlands       & Amsterdam         & 0.405156537753223 & 1                 & 580              \\\\\n",
       "\t321 & Switzerland       & Zurich            & 0.403960396039604 & 1                 & 543              \\\\\n",
       "\t3 & Australia         & Melbourne         & 0.401785714285714 & 1                 & 115              \\\\\n",
       "\t170 & Luxemburg & Luxemburg & 0.388     & 1         & 538      \\\\\n",
       "\t182 & Netherlands       & Rotterdam         & 0.384279475982533 & 1                 & 253              \\\\\n",
       "\t181 & Netherlands       & Maastricht        & 0.378205128205128 & 1                 & 339              \\\\\n",
       "\t179 & Netherlands       & Gronningen        & 0.377906976744186 & 1                 & 178              \\\\\n",
       "\t316 & Switzerland      & Basel            & 0.37696335078534 & 1                & 206             \\\\\n",
       "\t234 & US                & Sunnyvale         & 0.373271889400922 & 1                 & 230              \\\\\n",
       "\t39 & UK                & Edinbourough      & 0.370503597122302 & 1                 & 305              \\\\\n",
       "\t312 & Croatia           & Zagreb            & 0.361111111111111 & 1                 & 39               \\\\\n",
       "\t36 & UK                & Glasgow           & 0.359897172236504 & 1                 & 441              \\\\\n",
       "\t229 & US                & San Diego         & 0.359712230215827 & 1                 & 146              \\\\\n",
       "\t295 & Germany           & Munich            & 0.358306188925081 & 1                 & 643              \\\\\n",
       "\t49 & UK                & London            & 0.355263157894737 & 1                 & 724              \\\\\n",
       "\t239 & US                & Chicago           & 0.354609929078014 & 1                 & 143              \\\\\n",
       "\t207 & US                & Boston            & 0.350877192982456 & 1                 & 477              \\\\\n",
       "\t8 & Austria           & Vienna            & 0.347142857142857 & 1                 & 761              \\\\\n",
       "\t57 & UK                & London            & 0.345814977973568 & 1                 & 484              \\\\\n",
       "\t228 & US                & San Antonio       & 0.342105263157895 & 1                 & 79               \\\\\n",
       "\t56 & UK                & London            & 0.340659340659341 & 1                 & 385              \\\\\n",
       "\t9 & Austria           & Vienna            & 0.338432122370937 & 1                 & 558              \\\\\n",
       "\t225 & US                & Pittsburg         & 0.338235294117647 & 1                 & 73               \\\\\n",
       "\t23 & Belgium           & Brussels          & 0.337179487179487 & 1                 & 821              \\\\\n",
       "\t318 & Switzerland       & Geneva            & 0.335504885993485 & 1                 & 322              \\\\\n",
       "\t183 & Netherlands       & Utrecht           & 0.335294117647059 & 1                 & 182              \\\\\n",
       "\t28 & Brazil            & Sao Paolo         & 0.333333333333333 & 1                 & 37               \\\\\n",
       "\t177 & Netherlands       & Eindhoven         & 0.333333333333333 & 1                 & 201              \\\\\n",
       "\t240 & US               & Irvine           & 0.33112582781457 & 1                & 155             \\\\\n",
       "\t222 & US                & New York          & 0.330188679245283 & 1                 & 328              \\\\\n",
       "\t48 & UK                & London            & 0.328054298642534 & 1                 & 480              \\\\\n",
       "\t290 & Germany           & Berlin            & 0.327777777777778 & 1                 & 763              \\\\\n",
       "\t238 & US                & Houston           & 0.326388888888889 & 1                 & 145              \\\\\n",
       "\t291 & Germany           & Berlin            & 0.326259946949602 & 1                 & 815              \\\\\n",
       "\t1 & Australia         & Brisbane          & 0.325581395348837 & 1                 & 45               \\\\\n",
       "\t167 & Kuwait           & Kuwait           & 0.32484076433121 & 1                & 170             \\\\\n",
       "\t10 & Austria           & Vienna            & 0.324210526315789 & 1                 & 505              \\\\\n",
       "\t208 & US                & DC                & 0.316810344827586 & 1                 & 480              \\\\\n",
       "\t67 & UK                & Oxford            & 0.316602316602317 & 1                 & 295              \\\\\n",
       "\t25 & Belgium           & Leuven            & 0.316498316498317 & 1                 & 323              \\\\\n",
       "\\end{tabular}\n"
      ],
      "text/plain": [
       "        country          city   tt.perc tt.rank num_valid_votes\n",
       "196       Korea          Seul 0.6176471       1              35\n",
       "241   Singapore      Sinapore 0.5844156       1              79\n",
       "325       Japan         Tokyo 0.5072464       1              74\n",
       "230          US San Francisco 0.4779412       1             143\n",
       "82      Vietnam         Hanoi 0.4615385       1              14\n",
       "5     Australia        Sidney 0.4285714       1             148\n",
       "221          US      New York 0.4285714       1             159\n",
       "319 Switzerland      Lausanne 0.4260870       1             125\n",
       "4     Australia         Perth 0.4166667       1              81\n",
       "218          US   Los Angeles 0.4111675       1             209\n",
       "178 Netherlands     Amsterdam 0.4051565       1             580\n",
       "321 Switzerland        Zurich 0.4039604       1             543\n",
       "3     Australia     Melbourne 0.4017857       1             115\n",
       "170   Luxemburg     Luxemburg 0.3880000       1             538\n",
       "182 Netherlands     Rotterdam 0.3842795       1             253\n",
       "181 Netherlands    Maastricht 0.3782051       1             339\n",
       "179 Netherlands    Gronningen 0.3779070       1             178\n",
       "316 Switzerland         Basel 0.3769634       1             206\n",
       "234          US     Sunnyvale 0.3732719       1             230\n",
       "39           UK  Edinbourough 0.3705036       1             305\n",
       "312     Croatia        Zagreb 0.3611111       1              39\n",
       "36           UK       Glasgow 0.3598972       1             441\n",
       "229          US     San Diego 0.3597122       1             146\n",
       "295     Germany        Munich 0.3583062       1             643\n",
       "49           UK        London 0.3552632       1             724\n",
       "239          US       Chicago 0.3546099       1             143\n",
       "207          US        Boston 0.3508772       1             477\n",
       "8       Austria        Vienna 0.3471429       1             761\n",
       "57           UK        London 0.3458150       1             484\n",
       "228          US   San Antonio 0.3421053       1              79\n",
       "56           UK        London 0.3406593       1             385\n",
       "9       Austria        Vienna 0.3384321       1             558\n",
       "225          US     Pittsburg 0.3382353       1              73\n",
       "23      Belgium      Brussels 0.3371795       1             821\n",
       "318 Switzerland        Geneva 0.3355049       1             322\n",
       "183 Netherlands       Utrecht 0.3352941       1             182\n",
       "28       Brazil     Sao Paolo 0.3333333       1              37\n",
       "177 Netherlands     Eindhoven 0.3333333       1             201\n",
       "240          US        Irvine 0.3311258       1             155\n",
       "222          US      New York 0.3301887       1             328\n",
       "48           UK        London 0.3280543       1             480\n",
       "290     Germany        Berlin 0.3277778       1             763\n",
       "238          US       Houston 0.3263889       1             145\n",
       "291     Germany        Berlin 0.3262599       1             815\n",
       "1     Australia      Brisbane 0.3255814       1              45\n",
       "167      Kuwait        Kuwait 0.3248408       1             170\n",
       "10      Austria        Vienna 0.3242105       1             505\n",
       "208          US            DC 0.3168103       1             480\n",
       "67           UK        Oxford 0.3166023       1             295\n",
       "25      Belgium        Leuven 0.3164983       1             323"
      ]
     },
     "metadata": {},
     "output_type": "display_data"
    }
   ],
   "source": [
    "tt.df <- data.frame(ballots.df$country, ballots.df$city, ballots.df$tt.perc, ballots.df$tt.rank, ballots.df$valid)\n",
    "colnames(tt.df) <- c(\"country\", \"city\", \"tt.perc\", \"tt.rank\", \"num_valid_votes\")\n",
    "tt.df <- tt.df[order(-tt.df$tt.perc), ]\n",
    "head(tt.df, 50)"
   ]
  },
  {
   "cell_type": "code",
   "execution_count": 222,
   "metadata": {
    "collapsed": false
   },
   "outputs": [
    {
     "data": {
      "text/html": [
       "<table>\n",
       "<thead><tr><th></th><th scope=col>country</th><th scope=col>city</th><th scope=col>tt.perc</th><th scope=col>tt.rank</th><th scope=col>num_valid_votes</th></tr></thead>\n",
       "<tbody>\n",
       "\t<tr><th scope=row>230</th><td>US               </td><td>San Francisco    </td><td>0.477941176470588</td><td>1                </td><td>143              </td></tr>\n",
       "\t<tr><th scope=row>221</th><td>US               </td><td>New York         </td><td>0.428571428571429</td><td>1                </td><td>159              </td></tr>\n",
       "\t<tr><th scope=row>218</th><td>US               </td><td>Los Angeles      </td><td>0.411167512690355</td><td>1                </td><td>209              </td></tr>\n",
       "\t<tr><th scope=row>234</th><td>US               </td><td>Sunnyvale        </td><td>0.373271889400922</td><td>1                </td><td>230              </td></tr>\n",
       "\t<tr><th scope=row>229</th><td>US               </td><td>San Diego        </td><td>0.359712230215827</td><td>1                </td><td>146              </td></tr>\n",
       "\t<tr><th scope=row>239</th><td>US               </td><td>Chicago          </td><td>0.354609929078014</td><td>1                </td><td>143              </td></tr>\n",
       "\t<tr><th scope=row>207</th><td>US               </td><td>Boston           </td><td>0.350877192982456</td><td>1                </td><td>477              </td></tr>\n",
       "\t<tr><th scope=row>228</th><td>US               </td><td>San Antonio      </td><td>0.342105263157895</td><td>1                </td><td>79               </td></tr>\n",
       "\t<tr><th scope=row>225</th><td>US               </td><td>Pittsburg        </td><td>0.338235294117647</td><td>1                </td><td>73               </td></tr>\n",
       "\t<tr><th scope=row>240</th><td>US              </td><td>Irvine          </td><td>0.33112582781457</td><td>1               </td><td>155             </td></tr>\n",
       "\t<tr><th scope=row>222</th><td>US               </td><td>New York         </td><td>0.330188679245283</td><td>1                </td><td>328              </td></tr>\n",
       "\t<tr><th scope=row>238</th><td>US               </td><td>Houston          </td><td>0.326388888888889</td><td>1                </td><td>145              </td></tr>\n",
       "\t<tr><th scope=row>208</th><td>US               </td><td>DC               </td><td>0.316810344827586</td><td>1                </td><td>480              </td></tr>\n",
       "\t<tr><th scope=row>235</th><td>US               </td><td>Philadelphia     </td><td>0.302469135802469</td><td>1                </td><td>166              </td></tr>\n",
       "\t<tr><th scope=row>223</th><td>US               </td><td>New York         </td><td>0.282758620689655</td><td>2                </td><td>145              </td></tr>\n",
       "\t<tr><th scope=row>226</th><td>US               </td><td>Richmond         </td><td>0.282608695652174</td><td>1                </td><td>96               </td></tr>\n",
       "\t<tr><th scope=row>210</th><td>US    </td><td>Denver</td><td>0.275 </td><td>2     </td><td>209   </td></tr>\n",
       "\t<tr><th scope=row>214</th><td>US               </td><td>Jacksonville     </td><td>0.271186440677966</td><td>1                </td><td>60               </td></tr>\n",
       "\t<tr><th scope=row>220</th><td>US               </td><td>Norwolk          </td><td>0.252336448598131</td><td>2                </td><td>116              </td></tr>\n",
       "\t<tr><th scope=row>217</th><td>US               </td><td>Linden           </td><td>0.251908396946565</td><td>2                </td><td>137              </td></tr>\n",
       "\t<tr><th scope=row>232</th><td>US               </td><td>Seattle          </td><td>0.233333333333333</td><td>2                </td><td>288              </td></tr>\n",
       "\t<tr><th scope=row>227</th><td>US               </td><td>Sacramento       </td><td>0.232876712328767</td><td>2                </td><td>73               </td></tr>\n",
       "\t<tr><th scope=row>237</th><td>US               </td><td>Ft Lauderdale    </td><td>0.208333333333333</td><td>3                </td><td>174              </td></tr>\n",
       "\t<tr><th scope=row>215</th><td>US               </td><td>Concord          </td><td>0.206106870229008</td><td>2                </td><td>141              </td></tr>\n",
       "\t<tr><th scope=row>233</th><td>US               </td><td>Cincinnatti      </td><td>0.191919191919192</td><td>3                </td><td>105              </td></tr>\n",
       "\t<tr><th scope=row>219</th><td>US               </td><td>Naples           </td><td>0.188679245283019</td><td>3                </td><td>110              </td></tr>\n",
       "\t<tr><th scope=row>236</th><td>US               </td><td>Phoenix          </td><td>0.185897435897436</td><td>3                </td><td>164              </td></tr>\n",
       "\t<tr><th scope=row>209</th><td>US               </td><td>Dallas           </td><td>0.184873949579832</td><td>3                </td><td>129              </td></tr>\n",
       "\t<tr><th scope=row>213</th><td>US               </td><td>Detroit          </td><td>0.182432432432432</td><td>3                </td><td>156              </td></tr>\n",
       "\t<tr><th scope=row>224</th><td>US               </td><td>Orlando          </td><td>0.172043010752688</td><td>3                </td><td>98               </td></tr>\n",
       "\t<tr><th scope=row>206</th><td>US               </td><td>Atlanta          </td><td>0.157556270096463</td><td>3                </td><td>337              </td></tr>\n",
       "\t<tr><th scope=row>231</th><td>US               </td><td>St Petersburg    </td><td>0.152380952380952</td><td>3                </td><td>228              </td></tr>\n",
       "\t<tr><th scope=row>211</th><td>US               </td><td>Des Plaines      </td><td>0.143010752688172</td><td>4                </td><td>976              </td></tr>\n",
       "\t<tr><th scope=row>212</th><td>US              </td><td>Des Plaines     </td><td>0.13107822410148</td><td>3               </td><td>500             </td></tr>\n",
       "\t<tr><th scope=row>216</th><td>US               </td><td>Las Vegas        </td><td>0.117021276595745</td><td>4                </td><td>304              </td></tr>\n",
       "</tbody>\n",
       "</table>\n"
      ],
      "text/latex": [
       "\\begin{tabular}{r|lllll}\n",
       "  & country & city & tt.perc & tt.rank & num\\_valid\\_votes\\\\\n",
       "\\hline\n",
       "\t230 & US                & San Francisco     & 0.477941176470588 & 1                 & 143              \\\\\n",
       "\t221 & US                & New York          & 0.428571428571429 & 1                 & 159              \\\\\n",
       "\t218 & US                & Los Angeles       & 0.411167512690355 & 1                 & 209              \\\\\n",
       "\t234 & US                & Sunnyvale         & 0.373271889400922 & 1                 & 230              \\\\\n",
       "\t229 & US                & San Diego         & 0.359712230215827 & 1                 & 146              \\\\\n",
       "\t239 & US                & Chicago           & 0.354609929078014 & 1                 & 143              \\\\\n",
       "\t207 & US                & Boston            & 0.350877192982456 & 1                 & 477              \\\\\n",
       "\t228 & US                & San Antonio       & 0.342105263157895 & 1                 & 79               \\\\\n",
       "\t225 & US                & Pittsburg         & 0.338235294117647 & 1                 & 73               \\\\\n",
       "\t240 & US               & Irvine           & 0.33112582781457 & 1                & 155             \\\\\n",
       "\t222 & US                & New York          & 0.330188679245283 & 1                 & 328              \\\\\n",
       "\t238 & US                & Houston           & 0.326388888888889 & 1                 & 145              \\\\\n",
       "\t208 & US                & DC                & 0.316810344827586 & 1                 & 480              \\\\\n",
       "\t235 & US                & Philadelphia      & 0.302469135802469 & 1                 & 166              \\\\\n",
       "\t223 & US                & New York          & 0.282758620689655 & 2                 & 145              \\\\\n",
       "\t226 & US                & Richmond          & 0.282608695652174 & 1                 & 96               \\\\\n",
       "\t210 & US     & Denver & 0.275  & 2      & 209   \\\\\n",
       "\t214 & US                & Jacksonville      & 0.271186440677966 & 1                 & 60               \\\\\n",
       "\t220 & US                & Norwolk           & 0.252336448598131 & 2                 & 116              \\\\\n",
       "\t217 & US                & Linden            & 0.251908396946565 & 2                 & 137              \\\\\n",
       "\t232 & US                & Seattle           & 0.233333333333333 & 2                 & 288              \\\\\n",
       "\t227 & US                & Sacramento        & 0.232876712328767 & 2                 & 73               \\\\\n",
       "\t237 & US                & Ft Lauderdale     & 0.208333333333333 & 3                 & 174              \\\\\n",
       "\t215 & US                & Concord           & 0.206106870229008 & 2                 & 141              \\\\\n",
       "\t233 & US                & Cincinnatti       & 0.191919191919192 & 3                 & 105              \\\\\n",
       "\t219 & US                & Naples            & 0.188679245283019 & 3                 & 110              \\\\\n",
       "\t236 & US                & Phoenix           & 0.185897435897436 & 3                 & 164              \\\\\n",
       "\t209 & US                & Dallas            & 0.184873949579832 & 3                 & 129              \\\\\n",
       "\t213 & US                & Detroit           & 0.182432432432432 & 3                 & 156              \\\\\n",
       "\t224 & US                & Orlando           & 0.172043010752688 & 3                 & 98               \\\\\n",
       "\t206 & US                & Atlanta           & 0.157556270096463 & 3                 & 337              \\\\\n",
       "\t231 & US                & St Petersburg     & 0.152380952380952 & 3                 & 228              \\\\\n",
       "\t211 & US                & Des Plaines       & 0.143010752688172 & 4                 & 976              \\\\\n",
       "\t212 & US               & Des Plaines      & 0.13107822410148 & 3                & 500             \\\\\n",
       "\t216 & US                & Las Vegas         & 0.117021276595745 & 4                 & 304              \\\\\n",
       "\\end{tabular}\n"
      ],
      "text/plain": [
       "    country          city   tt.perc tt.rank num_valid_votes\n",
       "230      US San Francisco 0.4779412       1             143\n",
       "221      US      New York 0.4285714       1             159\n",
       "218      US   Los Angeles 0.4111675       1             209\n",
       "234      US     Sunnyvale 0.3732719       1             230\n",
       "229      US     San Diego 0.3597122       1             146\n",
       "239      US       Chicago 0.3546099       1             143\n",
       "207      US        Boston 0.3508772       1             477\n",
       "228      US   San Antonio 0.3421053       1              79\n",
       "225      US     Pittsburg 0.3382353       1              73\n",
       "240      US        Irvine 0.3311258       1             155\n",
       "222      US      New York 0.3301887       1             328\n",
       "238      US       Houston 0.3263889       1             145\n",
       "208      US            DC 0.3168103       1             480\n",
       "235      US  Philadelphia 0.3024691       1             166\n",
       "223      US      New York 0.2827586       2             145\n",
       "226      US      Richmond 0.2826087       1              96\n",
       "210      US        Denver 0.2750000       2             209\n",
       "214      US  Jacksonville 0.2711864       1              60\n",
       "220      US       Norwolk 0.2523364       2             116\n",
       "217      US        Linden 0.2519084       2             137\n",
       "232      US       Seattle 0.2333333       2             288\n",
       "227      US    Sacramento 0.2328767       2              73\n",
       "237      US Ft Lauderdale 0.2083333       3             174\n",
       "215      US       Concord 0.2061069       2             141\n",
       "233      US   Cincinnatti 0.1919192       3             105\n",
       "219      US        Naples 0.1886792       3             110\n",
       "236      US       Phoenix 0.1858974       3             164\n",
       "209      US        Dallas 0.1848739       3             129\n",
       "213      US       Detroit 0.1824324       3             156\n",
       "224      US       Orlando 0.1720430       3              98\n",
       "206      US       Atlanta 0.1575563       3             337\n",
       "231      US St Petersburg 0.1523810       3             228\n",
       "211      US   Des Plaines 0.1430108       4             976\n",
       "212      US   Des Plaines 0.1310782       3             500\n",
       "216      US     Las Vegas 0.1170213       4             304"
      ]
     },
     "metadata": {},
     "output_type": "display_data"
    }
   ],
   "source": [
    "head(tt.df[which(tt.df$country==\"US\"), ], 50)"
   ]
  },
  {
   "cell_type": "code",
   "execution_count": null,
   "metadata": {
    "collapsed": false
   },
   "outputs": [],
   "source": []
  },
  {
   "cell_type": "code",
   "execution_count": null,
   "metadata": {
    "collapsed": true
   },
   "outputs": [],
   "source": []
  }
 ],
 "metadata": {
  "anaconda-cloud": {},
  "kernelspec": {
   "display_name": "R",
   "language": "R",
   "name": "ir"
  },
  "language_info": {
   "codemirror_mode": "r",
   "file_extension": ".r",
   "mimetype": "text/x-r-source",
   "name": "R",
   "pygments_lexer": "r",
   "version": "3.3.1"
  }
 },
 "nbformat": 4,
 "nbformat_minor": 1
}
